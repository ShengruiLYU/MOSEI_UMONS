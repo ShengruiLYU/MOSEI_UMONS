{
  "nbformat": 4,
  "nbformat_minor": 0,
  "metadata": {
    "colab": {
      "name": "mmml-first-assignment.ipynb",
      "provenance": [],
      "collapsed_sections": [],
      "toc_visible": true,
      "machine_shape": "hm",
      "authorship_tag": "ABX9TyNej/eMMPMj1XIOfMYiGm2n",
      "include_colab_link": true
    },
    "kernelspec": {
      "name": "python3",
      "display_name": "Python 3"
    }
  },
  "cells": [
    {
      "cell_type": "markdown",
      "metadata": {
        "id": "view-in-github",
        "colab_type": "text"
      },
      "source": [
        "<a href=\"https://colab.research.google.com/github/ShengruiLYU/MOSEI_UMONS/blob/master/data/mmsdk-sample.ipynb\" target=\"_parent\"><img src=\"https://colab.research.google.com/assets/colab-badge.svg\" alt=\"Open In Colab\"/></a>"
      ]
    },
    {
      "cell_type": "markdown",
      "metadata": {
        "id": "7T8bUlk-Dndq"
      },
      "source": [
        "# MMML First Assignment\n",
        "\n",
        "Examples of how to use CMU Multimodal SDK"
      ]
    },
    {
      "cell_type": "code",
      "metadata": {
        "id": "Ly8Ms4eIDxnO"
      },
      "source": [
        "!git clone https://github.com/A2Zadeh/CMU-MultimodalSDK\n",
        "!pip install h5py validators tqdm numpy argparse requests colorama"
      ],
      "execution_count": null,
      "outputs": []
    },
    {
      "cell_type": "code",
      "metadata": {
        "id": "EJzOwwCn8bCZ"
      },
      "source": [
        "import os\n",
        "os.chdir('/content/CMU-MultimodalSDK')\n",
        "from mmsdk import mmdatasdk"
      ],
      "execution_count": null,
      "outputs": []
    },
    {
      "cell_type": "code",
      "metadata": {
        "id": "kaoOtrU19GlG",
        "outputId": "4aa739f4-2e83-4f53-df21-5e81f61e5a24",
        "colab": {
          "base_uri": "https://localhost:8080/",
          "height": 802
        }
      },
      "source": [
        "# the first time we use it: download from web to a local destination ./cmu-mosei/\n",
        "# this will take nearly 1 hour\n",
        "cmumosei_highlevel = mmdatasdk.mmdataset(mmdatasdk.cmu_mosei.highlevel, 'cmu-mosei/')"
      ],
      "execution_count": null,
      "outputs": [
        {
          "output_type": "stream",
          "text": [
            "\r  0%|          | 0/1514432 [00:00<?, ?kB/s, Total in kBs]"
          ],
          "name": "stderr"
        },
        {
          "output_type": "stream",
          "text": [
            "\u001b[94m\u001b[1m[2020-09-30 03:10:57.068] | Status  | \u001b[0mDownloading from http://immortal.multicomp.cs.cmu.edu/CMU-MOSEI/language/CMU_MOSEI_TimestampedWordVectors.csd to cmu-mosei/CMU_MOSEI_TimestampedWordVectors.csd...\n"
          ],
          "name": "stdout"
        },
        {
          "output_type": "stream",
          "text": [
            "  0%|          | 0/3837 [00:00<?, ? Computational Sequence Entries/s]"
          ],
          "name": "stderr"
        },
        {
          "output_type": "stream",
          "text": [
            "\u001b[92m\u001b[1m[2020-09-30 03:13:00.830] | Success | \u001b[0mDownload complete!\n",
            "\u001b[92m\u001b[1m[2020-09-30 03:13:00.842] | Success | \u001b[0mComputational sequence read from file cmu-mosei/CMU_MOSEI_TimestampedWordVectors.csd ...\n",
            "\u001b[94m\u001b[1m[2020-09-30 03:13:00.970] | Status  | \u001b[0mChecking the integrity of the <glove_vectors> computational sequence ...\n",
            "\u001b[94m\u001b[1m[2020-09-30 03:13:00.970] | Status  | \u001b[0mChecking the format of the data in <glove_vectors> computational sequence ...\n"
          ],
          "name": "stdout"
        },
        {
          "output_type": "stream",
          "text": [
            ""
          ],
          "name": "stderr"
        },
        {
          "output_type": "stream",
          "text": [
            "\u001b[92m\u001b[1m[2020-09-30 03:13:02.351] | Success | \u001b[0m<glove_vectors> computational sequence data in correct format.\n",
            "\u001b[94m\u001b[1m[2020-09-30 03:13:02.351] | Status  | \u001b[0mChecking the format of the metadata in <glove_vectors> computational sequence ...\n",
            "\u001b[92m\u001b[1m[2020-09-30 03:13:02.351] | Success | \u001b[0m<glove_vectors> computational sequence metadata in correct format.\n",
            "\u001b[92m\u001b[1m[2020-09-30 03:13:02.351] | Success | \u001b[0m<glove_vectors> computational sequence is valid!\n"
          ],
          "name": "stdout"
        },
        {
          "output_type": "stream",
          "text": [
            "  0%|          | 37/11314059 [00:00<8:29:47, 369.90kB/s, Total in kBs]"
          ],
          "name": "stderr"
        },
        {
          "output_type": "stream",
          "text": [
            "\u001b[94m\u001b[1m[2020-09-30 03:13:02.616] | Status  | \u001b[0mDownloading from http://immortal.multicomp.cs.cmu.edu/CMU-MOSEI/acoustic/CMU_MOSEI_COVAREP.csd to cmu-mosei/CMU_MOSEI_COVAREP.csd...\n"
          ],
          "name": "stdout"
        },
        {
          "output_type": "stream",
          "text": [
            "  0%|          | 0/3836 [00:00<?, ? Computational Sequence Entries/s]"
          ],
          "name": "stderr"
        },
        {
          "output_type": "stream",
          "text": [
            "\u001b[92m\u001b[1m[2020-09-30 03:30:26.141] | Success | \u001b[0mDownload complete!\n",
            "\u001b[92m\u001b[1m[2020-09-30 03:30:26.145] | Success | \u001b[0mComputational sequence read from file cmu-mosei/CMU_MOSEI_COVAREP.csd ...\n",
            "\u001b[94m\u001b[1m[2020-09-30 03:30:26.282] | Status  | \u001b[0mChecking the integrity of the <COVAREP> computational sequence ...\n",
            "\u001b[94m\u001b[1m[2020-09-30 03:30:26.282] | Status  | \u001b[0mChecking the format of the data in <COVAREP> computational sequence ...\n"
          ],
          "name": "stdout"
        },
        {
          "output_type": "stream",
          "text": [
            ""
          ],
          "name": "stderr"
        },
        {
          "output_type": "stream",
          "text": [
            "\u001b[92m\u001b[1m[2020-09-30 03:30:27.644] | Success | \u001b[0m<COVAREP> computational sequence data in correct format.\n",
            "\u001b[94m\u001b[1m[2020-09-30 03:30:27.644] | Status  | \u001b[0mChecking the format of the metadata in <COVAREP> computational sequence ...\n",
            "\u001b[92m\u001b[1m[2020-09-30 03:30:27.644] | Success | \u001b[0m<COVAREP> computational sequence metadata in correct format.\n",
            "\u001b[92m\u001b[1m[2020-09-30 03:30:27.645] | Success | \u001b[0m<COVAREP> computational sequence is valid!\n"
          ],
          "name": "stdout"
        },
        {
          "output_type": "stream",
          "text": [
            "  0%|          | 14/16326638 [00:00<32:23:41, 140.00kB/s, Total in kBs]"
          ],
          "name": "stderr"
        },
        {
          "output_type": "stream",
          "text": [
            "\u001b[94m\u001b[1m[2020-09-30 03:30:27.926] | Status  | \u001b[0mDownloading from http://immortal.multicomp.cs.cmu.edu/CMU-MOSEI/visual/CMU_MOSEI_VisualOpenFace2.csd to cmu-mosei/CMU_MOSEI_VisualOpenFace2.csd...\n"
          ],
          "name": "stdout"
        },
        {
          "output_type": "stream",
          "text": [
            ""
          ],
          "name": "stderr"
        },
        {
          "output_type": "stream",
          "text": [
            "\u001b[92m\u001b[1m[2020-09-30 03:58:17.234] | Success | \u001b[0mDownload complete!\n",
            "\u001b[92m\u001b[1m[2020-09-30 03:58:17.237] | Success | \u001b[0mComputational sequence read from file cmu-mosei/CMU_MOSEI_VisualOpenFace2.csd ...\n"
          ],
          "name": "stdout"
        },
        {
          "output_type": "stream",
          "text": [
            "  4%|▎         | 137/3837 [00:00<00:02, 1334.48 Computational Sequence Entries/s]"
          ],
          "name": "stderr"
        },
        {
          "output_type": "stream",
          "text": [
            "\u001b[94m\u001b[1m[2020-09-30 03:58:18.120] | Status  | \u001b[0mChecking the integrity of the <OpenFace_2> computational sequence ...\n",
            "\u001b[94m\u001b[1m[2020-09-30 03:58:18.120] | Status  | \u001b[0mChecking the format of the data in <OpenFace_2> computational sequence ...\n"
          ],
          "name": "stdout"
        },
        {
          "output_type": "stream",
          "text": [
            ""
          ],
          "name": "stderr"
        },
        {
          "output_type": "stream",
          "text": [
            "\u001b[92m\u001b[1m[2020-09-30 03:58:20.468] | Success | \u001b[0m<OpenFace_2> computational sequence data in correct format.\n",
            "\u001b[94m\u001b[1m[2020-09-30 03:58:20.468] | Status  | \u001b[0mChecking the format of the metadata in <OpenFace_2> computational sequence ...\n",
            "\u001b[92m\u001b[1m[2020-09-30 03:58:20.468] | Success | \u001b[0m<OpenFace_2> computational sequence metadata in correct format.\n",
            "\u001b[92m\u001b[1m[2020-09-30 03:58:20.468] | Success | \u001b[0m<OpenFace_2> computational sequence is valid!\n"
          ],
          "name": "stdout"
        },
        {
          "output_type": "stream",
          "text": [
            "  0%|          | 15/1617674 [00:00<2:59:44, 150.00kB/s, Total in kBs]"
          ],
          "name": "stderr"
        },
        {
          "output_type": "stream",
          "text": [
            "\u001b[94m\u001b[1m[2020-09-30 03:58:20.918] | Status  | \u001b[0mDownloading from http://immortal.multicomp.cs.cmu.edu/CMU-MOSEI/visual/CMU_MOSEI_VisualFacet42.csd to cmu-mosei/CMU_MOSEI_VisualFacet42.csd...\n"
          ],
          "name": "stdout"
        },
        {
          "output_type": "stream",
          "text": [
            "  7%|▋         | 286/3837 [00:00<00:01, 2852.64 Computational Sequence Entries/s]"
          ],
          "name": "stderr"
        },
        {
          "output_type": "stream",
          "text": [
            "\u001b[92m\u001b[1m[2020-09-30 04:01:09.234] | Success | \u001b[0mDownload complete!\n",
            "\u001b[92m\u001b[1m[2020-09-30 04:01:09.236] | Success | \u001b[0mComputational sequence read from file cmu-mosei/CMU_MOSEI_VisualFacet42.csd ...\n",
            "\u001b[94m\u001b[1m[2020-09-30 04:01:09.337] | Status  | \u001b[0mChecking the integrity of the <FACET 4.2> computational sequence ...\n",
            "\u001b[94m\u001b[1m[2020-09-30 04:01:09.337] | Status  | \u001b[0mChecking the format of the data in <FACET 4.2> computational sequence ...\n"
          ],
          "name": "stdout"
        },
        {
          "output_type": "stream",
          "text": [
            "                                                                                  "
          ],
          "name": "stderr"
        },
        {
          "output_type": "stream",
          "text": [
            "\u001b[92m\u001b[1m[2020-09-30 04:01:10.665] | Success | \u001b[0m<FACET 4.2> computational sequence data in correct format.\n",
            "\u001b[94m\u001b[1m[2020-09-30 04:01:10.665] | Status  | \u001b[0mChecking the format of the metadata in <FACET 4.2> computational sequence ...\n",
            "\u001b[92m\u001b[1m[2020-09-30 04:01:10.665] | Success | \u001b[0m<FACET 4.2> computational sequence metadata in correct format.\n",
            "\u001b[92m\u001b[1m[2020-09-30 04:01:10.665] | Success | \u001b[0m<FACET 4.2> computational sequence is valid!\n",
            "\u001b[92m\u001b[1m[2020-09-30 04:01:10.665] | Success | \u001b[0mDataset initialized successfully ... \n"
          ],
          "name": "stdout"
        },
        {
          "output_type": "stream",
          "text": [
            "\r"
          ],
          "name": "stderr"
        }
      ]
    },
    {
      "cell_type": "code",
      "metadata": {
        "id": "BBGB_2ANEwI5",
        "outputId": "9534f9fc-25e3-45a7-b385-adc05418aa4b",
        "colab": {
          "base_uri": "https://localhost:8080/",
          "height": 34
        }
      },
      "source": [
        "cmumosei_highlevel.keys() # available high-level features"
      ],
      "execution_count": null,
      "outputs": [
        {
          "output_type": "execute_result",
          "data": {
            "text/plain": [
              "dict_keys(['glove_vectors', 'COVAREP', 'OpenFace_2', 'FACET 4.2'])"
            ]
          },
          "metadata": {
            "tags": []
          },
          "execution_count": 49
        }
      ]
    },
    {
      "cell_type": "code",
      "metadata": {
        "id": "kc2Qh9cuNGgi",
        "outputId": "b1094f49-eb0b-4160-a22d-d98e9e59bd2e",
        "colab": {
          "base_uri": "https://localhost:8080/",
          "height": 34
        }
      },
      "source": [
        "openface = cmumosei_highlevel['OpenFace_2']\n",
        "for source_id in openface.keys():\n",
        "    print(source_id) # source identifiers, e.g., video ID\n",
        "    break"
      ],
      "execution_count": 61,
      "outputs": [
        {
          "output_type": "stream",
          "text": [
            "--qXJuDtHPw\n"
          ],
          "name": "stdout"
        }
      ]
    },
    {
      "cell_type": "code",
      "metadata": {
        "id": "BKy47hiQNvcC",
        "outputId": "c55ac065-2327-4ac6-f13d-b3d97e8c7771",
        "colab": {
          "base_uri": "https://localhost:8080/",
          "height": 51
        }
      },
      "source": [
        "# inspect features of a sample (a 2-D array)\n",
        "# 'intervals' is the associated timestamps\n",
        "openface_sample = openface['--qXJuDtHPw']\n",
        "print(openface_sample['features'])\n",
        "print(openface_sample['intervals'])"
      ],
      "execution_count": null,
      "outputs": [
        {
          "output_type": "stream",
          "text": [
            "<HDF5 dataset \"features\": shape (1714, 713), type \"<f4\">\n",
            "<HDF5 dataset \"intervals\": shape (1714, 2), type \"<f8\">\n"
          ],
          "name": "stdout"
        }
      ]
    },
    {
      "cell_type": "code",
      "metadata": {
        "id": "Nou9YSFVhoX0",
        "outputId": "b13edc39-449b-454b-d03b-ad5def58c422",
        "colab": {
          "base_uri": "https://localhost:8080/",
          "height": 34
        }
      },
      "source": [
        "# exact numbers in the features can be retrieved using slicing similar to numpy\n",
        "# see h5py documentation on datasets: https://docs.h5py.org/en/stable/high/dataset.html#dataset\n",
        "openface_sample['intervals'][0]"
      ],
      "execution_count": null,
      "outputs": [
        {
          "output_type": "execute_result",
          "data": {
            "text/plain": [
              "array([0.   , 0.033])"
            ]
          },
          "metadata": {
            "tags": []
          },
          "execution_count": 57
        }
      ]
    },
    {
      "cell_type": "code",
      "metadata": {
        "id": "Iio2fPHXOGxX"
      },
      "source": [
        "# second time we use it: load data from local csd files\n",
        "# this will take a couple of seconds\n",
        "cmumosei_highlevel_from_file = mmdatasdk.mmdataset('cmu-mosei/')"
      ],
      "execution_count": null,
      "outputs": []
    },
    {
      "cell_type": "code",
      "metadata": {
        "id": "DX9x20vUgKl8",
        "outputId": "4bdaaab2-5e83-44e6-f39f-95b07b0b416e",
        "colab": {
          "base_uri": "https://localhost:8080/",
          "height": 34
        }
      },
      "source": [
        "facet = cmumosei_highlevel['FACET 4.2']\n",
        "facet_sample = facet['--qXJuDtHPw']\n",
        "facet_sample['features']"
      ],
      "execution_count": 58,
      "outputs": [
        {
          "output_type": "execute_result",
          "data": {
            "text/plain": [
              "<HDF5 dataset \"features\": shape (1715, 35), type \"<f4\">"
            ]
          },
          "metadata": {
            "tags": []
          },
          "execution_count": 58
        }
      ]
    },
    {
      "cell_type": "code",
      "metadata": {
        "id": "qpldhIhwiDAM"
      },
      "source": [
        ""
      ],
      "execution_count": null,
      "outputs": []
    }
  ]
}