{
  "nbformat": 4,
  "nbformat_minor": 0,
  "metadata": {
    "colab": {
      "name": "mmml-first-assignment.ipynb",
      "provenance": [],
      "collapsed_sections": [],
      "toc_visible": true,
      "machine_shape": "hm",
      "authorship_tag": "ABX9TyNpo3YAZToinQv4WgEfeUXP",
      "include_colab_link": true
    },
    "kernelspec": {
      "name": "python3",
      "display_name": "Python 3"
    },
    "accelerator": "GPU",
    "widgets": {
      "application/vnd.jupyter.widget-state+json": {
        "420be89b32694721a187414bb200646b": {
          "model_module": "@jupyter-widgets/controls",
          "model_name": "HBoxModel",
          "state": {
            "_view_name": "HBoxView",
            "_dom_classes": [],
            "_model_name": "HBoxModel",
            "_view_module": "@jupyter-widgets/controls",
            "_model_module_version": "1.5.0",
            "_view_count": null,
            "_view_module_version": "1.5.0",
            "box_style": "",
            "layout": "IPY_MODEL_02ee7088b45e419087ecdd8aa17cc501",
            "_model_module": "@jupyter-widgets/controls",
            "children": [
              "IPY_MODEL_fdd4fa98d5ea47a8a288bc40acdbb689",
              "IPY_MODEL_77b7017ae17d41078cda9e37ea1d4989"
            ]
          }
        },
        "02ee7088b45e419087ecdd8aa17cc501": {
          "model_module": "@jupyter-widgets/base",
          "model_name": "LayoutModel",
          "state": {
            "_view_name": "LayoutView",
            "grid_template_rows": null,
            "right": null,
            "justify_content": null,
            "_view_module": "@jupyter-widgets/base",
            "overflow": null,
            "_model_module_version": "1.2.0",
            "_view_count": null,
            "flex_flow": null,
            "width": null,
            "min_width": null,
            "border": null,
            "align_items": null,
            "bottom": null,
            "_model_module": "@jupyter-widgets/base",
            "top": null,
            "grid_column": null,
            "overflow_y": null,
            "overflow_x": null,
            "grid_auto_flow": null,
            "grid_area": null,
            "grid_template_columns": null,
            "flex": null,
            "_model_name": "LayoutModel",
            "justify_items": null,
            "grid_row": null,
            "max_height": null,
            "align_content": null,
            "visibility": null,
            "align_self": null,
            "height": null,
            "min_height": null,
            "padding": null,
            "grid_auto_rows": null,
            "grid_gap": null,
            "max_width": null,
            "order": null,
            "_view_module_version": "1.2.0",
            "grid_template_areas": null,
            "object_position": null,
            "object_fit": null,
            "grid_auto_columns": null,
            "margin": null,
            "display": null,
            "left": null
          }
        },
        "fdd4fa98d5ea47a8a288bc40acdbb689": {
          "model_module": "@jupyter-widgets/controls",
          "model_name": "FloatProgressModel",
          "state": {
            "_view_name": "ProgressView",
            "style": "IPY_MODEL_128cad872b2445c0b7cbdc3adcf943fd",
            "_dom_classes": [],
            "description": "100%",
            "_model_name": "FloatProgressModel",
            "bar_style": "success",
            "max": 126162996,
            "_view_module": "@jupyter-widgets/controls",
            "_model_module_version": "1.5.0",
            "value": 126162996,
            "_view_count": null,
            "_view_module_version": "1.5.0",
            "orientation": "horizontal",
            "min": 0,
            "description_tooltip": null,
            "_model_module": "@jupyter-widgets/controls",
            "layout": "IPY_MODEL_2829109db0d444b79067486236e3f742"
          }
        },
        "77b7017ae17d41078cda9e37ea1d4989": {
          "model_module": "@jupyter-widgets/controls",
          "model_name": "HTMLModel",
          "state": {
            "_view_name": "HTMLView",
            "style": "IPY_MODEL_1321a14f6d4a449f906d47bac3cafb30",
            "_dom_classes": [],
            "description": "",
            "_model_name": "HTMLModel",
            "placeholder": "​",
            "_view_module": "@jupyter-widgets/controls",
            "_model_module_version": "1.5.0",
            "value": " 120M/120M [01:43&lt;00:00, 1.22MB/s]",
            "_view_count": null,
            "_view_module_version": "1.5.0",
            "description_tooltip": null,
            "_model_module": "@jupyter-widgets/controls",
            "layout": "IPY_MODEL_1f1dea39c0b54d2f95c23b8d4aa0d519"
          }
        },
        "128cad872b2445c0b7cbdc3adcf943fd": {
          "model_module": "@jupyter-widgets/controls",
          "model_name": "ProgressStyleModel",
          "state": {
            "_view_name": "StyleView",
            "_model_name": "ProgressStyleModel",
            "description_width": "initial",
            "_view_module": "@jupyter-widgets/base",
            "_model_module_version": "1.5.0",
            "_view_count": null,
            "_view_module_version": "1.2.0",
            "bar_color": null,
            "_model_module": "@jupyter-widgets/controls"
          }
        },
        "2829109db0d444b79067486236e3f742": {
          "model_module": "@jupyter-widgets/base",
          "model_name": "LayoutModel",
          "state": {
            "_view_name": "LayoutView",
            "grid_template_rows": null,
            "right": null,
            "justify_content": null,
            "_view_module": "@jupyter-widgets/base",
            "overflow": null,
            "_model_module_version": "1.2.0",
            "_view_count": null,
            "flex_flow": null,
            "width": null,
            "min_width": null,
            "border": null,
            "align_items": null,
            "bottom": null,
            "_model_module": "@jupyter-widgets/base",
            "top": null,
            "grid_column": null,
            "overflow_y": null,
            "overflow_x": null,
            "grid_auto_flow": null,
            "grid_area": null,
            "grid_template_columns": null,
            "flex": null,
            "_model_name": "LayoutModel",
            "justify_items": null,
            "grid_row": null,
            "max_height": null,
            "align_content": null,
            "visibility": null,
            "align_self": null,
            "height": null,
            "min_height": null,
            "padding": null,
            "grid_auto_rows": null,
            "grid_gap": null,
            "max_width": null,
            "order": null,
            "_view_module_version": "1.2.0",
            "grid_template_areas": null,
            "object_position": null,
            "object_fit": null,
            "grid_auto_columns": null,
            "margin": null,
            "display": null,
            "left": null
          }
        },
        "1321a14f6d4a449f906d47bac3cafb30": {
          "model_module": "@jupyter-widgets/controls",
          "model_name": "DescriptionStyleModel",
          "state": {
            "_view_name": "StyleView",
            "_model_name": "DescriptionStyleModel",
            "description_width": "",
            "_view_module": "@jupyter-widgets/base",
            "_model_module_version": "1.5.0",
            "_view_count": null,
            "_view_module_version": "1.2.0",
            "_model_module": "@jupyter-widgets/controls"
          }
        },
        "1f1dea39c0b54d2f95c23b8d4aa0d519": {
          "model_module": "@jupyter-widgets/base",
          "model_name": "LayoutModel",
          "state": {
            "_view_name": "LayoutView",
            "grid_template_rows": null,
            "right": null,
            "justify_content": null,
            "_view_module": "@jupyter-widgets/base",
            "overflow": null,
            "_model_module_version": "1.2.0",
            "_view_count": null,
            "flex_flow": null,
            "width": null,
            "min_width": null,
            "border": null,
            "align_items": null,
            "bottom": null,
            "_model_module": "@jupyter-widgets/base",
            "top": null,
            "grid_column": null,
            "overflow_y": null,
            "overflow_x": null,
            "grid_auto_flow": null,
            "grid_area": null,
            "grid_template_columns": null,
            "flex": null,
            "_model_name": "LayoutModel",
            "justify_items": null,
            "grid_row": null,
            "max_height": null,
            "align_content": null,
            "visibility": null,
            "align_self": null,
            "height": null,
            "min_height": null,
            "padding": null,
            "grid_auto_rows": null,
            "grid_gap": null,
            "max_width": null,
            "order": null,
            "_view_module_version": "1.2.0",
            "grid_template_areas": null,
            "object_position": null,
            "object_fit": null,
            "grid_auto_columns": null,
            "margin": null,
            "display": null,
            "left": null
          }
        }
      }
    }
  },
  "cells": [
    {
      "cell_type": "markdown",
      "metadata": {
        "id": "view-in-github",
        "colab_type": "text"
      },
      "source": [
        "<a href=\"https://colab.research.google.com/github/ShengruiLYU/MOSEI_UMONS/blob/master/Visual%20Modality%20II.ipynb\" target=\"_parent\"><img src=\"https://colab.research.google.com/assets/colab-badge.svg\" alt=\"Open In Colab\"/></a>"
      ]
    },
    {
      "cell_type": "markdown",
      "metadata": {
        "id": "HjrecuTU_48b"
      },
      "source": [
        "# Visual Modality: Video Network\n",
        "\n",
        "Used pytorch pretrained R(2+1)-18 model"
      ]
    },
    {
      "cell_type": "code",
      "metadata": {
        "id": "SRdxiTjEAfNx",
        "outputId": "ee777377-1e67-40cd-904f-3a3b1355af6b",
        "colab": {
          "base_uri": "https://localhost:8080/",
          "height": 34
        }
      },
      "source": [
        "from google.colab import drive\n",
        "drive.mount('/content/drive')"
      ],
      "execution_count": 1,
      "outputs": [
        {
          "output_type": "stream",
          "text": [
            "Mounted at /content/drive\n"
          ],
          "name": "stdout"
        }
      ]
    },
    {
      "cell_type": "code",
      "metadata": {
        "id": "ZOETxGKIAiQB"
      },
      "source": [
        "!pip install av\n",
        "!mkdir data/\n",
        "!unzip drive/My\\ Drive/subsetVideo.zip -d data/\n",
        "!unzip drive/My\\ Drive/data_mosei.zip -d data/"
      ],
      "execution_count": null,
      "outputs": []
    },
    {
      "cell_type": "markdown",
      "metadata": {
        "id": "WtmoD5kx_KxH"
      },
      "source": [
        "## Get features and labels"
      ]
    },
    {
      "cell_type": "code",
      "metadata": {
        "id": "9LTMeI2xAvvF"
      },
      "source": [
        "import torch\n",
        "import torchvision\n",
        "import glob\n",
        "import numpy as np"
      ],
      "execution_count": 3,
      "outputs": []
    },
    {
      "cell_type": "code",
      "metadata": {
        "id": "JWEiQNheDxwe",
        "outputId": "d6248dc3-7578-455b-bdcc-236f624c9163",
        "colab": {
          "base_uri": "https://localhost:8080/",
          "height": 103,
          "referenced_widgets": [
            "420be89b32694721a187414bb200646b",
            "02ee7088b45e419087ecdd8aa17cc501",
            "fdd4fa98d5ea47a8a288bc40acdbb689",
            "77b7017ae17d41078cda9e37ea1d4989",
            "128cad872b2445c0b7cbdc3adcf943fd",
            "2829109db0d444b79067486236e3f742",
            "1321a14f6d4a449f906d47bac3cafb30",
            "1f1dea39c0b54d2f95c23b8d4aa0d519"
          ]
        }
      },
      "source": [
        "# load model\n",
        "torch.cuda.empty_cache()\n",
        "model = torchvision.models.video.r2plus1d_18(pretrained=True).cuda()"
      ],
      "execution_count": 4,
      "outputs": [
        {
          "output_type": "stream",
          "text": [
            "Downloading: \"https://download.pytorch.org/models/r2plus1d_18-91a641e6.pth\" to /root/.cache/torch/hub/checkpoints/r2plus1d_18-91a641e6.pth\n"
          ],
          "name": "stderr"
        },
        {
          "output_type": "display_data",
          "data": {
            "application/vnd.jupyter.widget-view+json": {
              "model_id": "420be89b32694721a187414bb200646b",
              "version_minor": 0,
              "version_major": 2
            },
            "text/plain": [
              "HBox(children=(FloatProgress(value=0.0, max=126162996.0), HTML(value='')))"
            ]
          },
          "metadata": {
            "tags": []
          }
        },
        {
          "output_type": "stream",
          "text": [
            "\n"
          ],
          "name": "stdout"
        }
      ]
    },
    {
      "cell_type": "code",
      "metadata": {
        "id": "1_NONhi7FhzD"
      },
      "source": [
        "# grab a video sample\n",
        "video_frames, _, metadata = torchvision.io.read_video('data/subsetVideo/0OXeN3MhFeA_16.mp4', pts_unit='sec')"
      ],
      "execution_count": 4,
      "outputs": []
    },
    {
      "cell_type": "code",
      "metadata": {
        "id": "A5J5WdNqGKlh",
        "outputId": "01b7290d-f524-4c5c-9627-a26a23a0cda4",
        "colab": {
          "base_uri": "https://localhost:8080/",
          "height": 34
        }
      },
      "source": [
        "video_frames.shape # T x H x W x C"
      ],
      "execution_count": 56,
      "outputs": [
        {
          "output_type": "execute_result",
          "data": {
            "text/plain": [
              "torch.Size([41, 720, 1280, 3])"
            ]
          },
          "metadata": {
            "tags": []
          },
          "execution_count": 56
        }
      ]
    },
    {
      "cell_type": "code",
      "metadata": {
        "id": "602lH7VAGMKF",
        "outputId": "005c8ed0-ad1d-4961-a15e-041b7b7f7102",
        "colab": {
          "base_uri": "https://localhost:8080/",
          "height": 34
        }
      },
      "source": [
        "metadata"
      ],
      "execution_count": 57,
      "outputs": [
        {
          "output_type": "execute_result",
          "data": {
            "text/plain": [
              "{'audio_fps': 44100, 'video_fps': 30.0}"
            ]
          },
          "metadata": {
            "tags": []
          },
          "execution_count": 57
        }
      ]
    },
    {
      "cell_type": "code",
      "metadata": {
        "id": "TUj899dFMCjW"
      },
      "source": [
        "# source: https://github.com/pytorch/vision/blob/master/references/video_classification/transforms.py\n",
        "# exclusive transforms for processing videos\n",
        "from transforms import ToFloatTensorInZeroOne, Resize, CenterCrop, Normalize\n",
        "\n",
        "transform = torchvision.transforms.Compose([\n",
        "    ToFloatTensorInZeroOne(),\n",
        "    Resize(112),\n",
        "    CenterCrop((112, 112)),\n",
        "    Normalize(\n",
        "        mean=[0.43216, 0.394666, 0.37645],\n",
        "        std=[0.22803, 0.22145, 0.216989]\n",
        "    )\n",
        "])"
      ],
      "execution_count": 6,
      "outputs": []
    },
    {
      "cell_type": "code",
      "metadata": {
        "id": "Y-PS_jekS0q8",
        "outputId": "6ee1fa40-a991-4dfd-f756-dd6a2b3164e7",
        "colab": {
          "base_uri": "https://localhost:8080/",
          "height": 88
        }
      },
      "source": [
        "transformed_video = transform(video_frames).unsqueeze(0).cuda()\n",
        "transformed_video.shape # batch_size x channel x time x height x width"
      ],
      "execution_count": 7,
      "outputs": [
        {
          "output_type": "stream",
          "text": [
            "/usr/local/lib/python3.6/dist-packages/torch/nn/functional.py:3000: UserWarning: The default behavior for interpolate/upsample with float scale_factor changed in 1.6.0 to align with other frameworks/libraries, and uses scale_factor directly, instead of relying on the computed output size. If you wish to keep the old behavior, please set recompute_scale_factor=True. See the documentation of nn.Upsample for details. \n",
            "  warnings.warn(\"The default behavior for interpolate/upsample with float scale_factor changed \"\n"
          ],
          "name": "stderr"
        },
        {
          "output_type": "execute_result",
          "data": {
            "text/plain": [
              "torch.Size([1, 3, 41, 112, 112])"
            ]
          },
          "metadata": {
            "tags": []
          },
          "execution_count": 7
        }
      ]
    },
    {
      "cell_type": "code",
      "metadata": {
        "id": "xzNvMN1mTTMz",
        "outputId": "ff49bb6b-7859-424d-b630-71fca0f7fe67",
        "colab": {
          "base_uri": "https://localhost:8080/",
          "height": 34
        }
      },
      "source": [
        "features = model(transformed_video)\n",
        "features.shape"
      ],
      "execution_count": 62,
      "outputs": [
        {
          "output_type": "execute_result",
          "data": {
            "text/plain": [
              "torch.Size([1, 400])"
            ]
          },
          "metadata": {
            "tags": []
          },
          "execution_count": 62
        }
      ]
    },
    {
      "cell_type": "code",
      "metadata": {
        "id": "9YZ0pkDcVCRK"
      },
      "source": [
        "# get features for videos\n",
        "all_features = []\n",
        "video_ids = []\n",
        "\n",
        "for video_path in glob.glob('data/subsetVideo/*.mp4'):\n",
        "    frames, _, _ = torchvision.io.read_video(video_path, pts_unit='sec')\n",
        "    num_frames = frames.shape[0]\n",
        "    if num_frames == 0 or num_frames > 150:\n",
        "        continue # only get videos of 0~5s to avoid OOM (actual usage ~15G)\n",
        "\n",
        "    model_input = transform(frames).unsqueeze(0).cuda()\n",
        "    features = model(model_input).detach().cpu().numpy()\n",
        "    all_features.append(features)\n",
        "    video_ids.append(video_path.split('/')[-1])\n",
        "    print('video {}: {} frames'.format(len(all_features), num_frames))\n",
        "\n",
        "all_features = np.array(all_features)"
      ],
      "execution_count": null,
      "outputs": []
    },
    {
      "cell_type": "code",
      "metadata": {
        "id": "kyqe8AvCtYjT",
        "outputId": "ae6ae303-a031-4f14-fe25-5177397644c3",
        "colab": {
          "base_uri": "https://localhost:8080/",
          "height": 34
        }
      },
      "source": [
        "len(video_ids)"
      ],
      "execution_count": 13,
      "outputs": [
        {
          "output_type": "execute_result",
          "data": {
            "text/plain": [
              "780"
            ]
          },
          "metadata": {
            "tags": []
          },
          "execution_count": 13
        }
      ]
    },
    {
      "cell_type": "code",
      "metadata": {
        "id": "GrCCsSOm-ObK"
      },
      "source": [
        "# get labels\n",
        "import pickle\n",
        "import os\n",
        "\n",
        "dataroot = 'data'\n",
        "y_train_file = os.path.join(dataroot, \"Y_S_train.pkl\")\n",
        "y_valid_file = os.path.join(dataroot, \"Y_S_valid.pkl\")\n",
        "y_test_file = os.path.join(dataroot, \"Y_S_test.pkl\")\n",
        "key_to_sentiment_train = pickle.load(open(y_train_file, \"rb\"))\n",
        "key_to_sentiment_valid = pickle.load(open(y_valid_file, \"rb\"))\n",
        "key_to_sentiment_test = pickle.load(open(y_test_file, \"rb\"))"
      ],
      "execution_count": 43,
      "outputs": []
    },
    {
      "cell_type": "code",
      "metadata": {
        "id": "G9JsKreG-Uyx"
      },
      "source": [
        "labels = []\n",
        "\n",
        "for video_id in video_ids:\n",
        "    video_id = video_id.split('.')[0]\n",
        "    idx = video_id.rfind(\"_\")\n",
        "    key = video_id[:idx] + '[' + video_id[idx+1:] + ']'\n",
        "    label = key_to_sentiment_train.get(key, None) or \\\n",
        "            key_to_sentiment_valid.get(key, None) or \\\n",
        "            key_to_sentiment_test.get(key, None)\n",
        "    labels.append(label)\n",
        "\n",
        "labels = np.array(labels)"
      ],
      "execution_count": 53,
      "outputs": []
    },
    {
      "cell_type": "code",
      "metadata": {
        "id": "RDgXPSLm-Zi6",
        "outputId": "2dbdd6cb-4979-4277-b809-2910d9d64cbf",
        "colab": {
          "base_uri": "https://localhost:8080/",
          "height": 34
        }
      },
      "source": [
        "print('label hit rate = {}'.format((labels != None).sum() / len(labels)))"
      ],
      "execution_count": 59,
      "outputs": [
        {
          "output_type": "stream",
          "text": [
            "label hit rate = 0.391025641025641\n"
          ],
          "name": "stdout"
        }
      ]
    },
    {
      "cell_type": "code",
      "metadata": {
        "id": "N00rb82v_x5k",
        "outputId": "445abd21-c13f-4210-ecd0-4493db9f96e3",
        "colab": {
          "base_uri": "https://localhost:8080/",
          "height": 527
        }
      },
      "source": [
        "[video_ids[int(idx)] for idx in np.argwhere(labels != None)[:30]]"
      ],
      "execution_count": 63,
      "outputs": [
        {
          "output_type": "execute_result",
          "data": {
            "text/plain": [
              "['gR4gM_WXesQ_3.mp4',\n",
              " '273171_14.mp4',\n",
              " 'XrNaL-MTjXg_4.mp4',\n",
              " 'huzEsVEJPaY_0.mp4',\n",
              " '24196_17.mp4',\n",
              " '108146_1.mp4',\n",
              " 'oHV99Y_EWfI_1.mp4',\n",
              " '215259_7.mp4',\n",
              " 'j0br-fFy160_1.mp4',\n",
              " '267278_22.mp4',\n",
              " 'bfy28AlY-TQ_0.mp4',\n",
              " '267799_2.mp4',\n",
              " 'bVhWpCvpSs4_4.mp4',\n",
              " 'SWHmteF5Rlk_7.mp4',\n",
              " '35694_10.mp4',\n",
              " 'asWraTfIqq0_6.mp4',\n",
              " 'WgI8IbJtXHw_1.mp4',\n",
              " 'DdUJojoFU_c_6.mp4',\n",
              " 'J3-NEG8uoiE_8.mp4',\n",
              " '167521_9.mp4',\n",
              " 'fVCDn6SdtVM_0.mp4',\n",
              " '4qoB5a6dR3w_0.mp4',\n",
              " 'R9ypacCuEZo_5.mp4',\n",
              " 'TVhXqAI9gyA_1.mp4',\n",
              " 'kPch8YhNfPE_2.mp4',\n",
              " 'JLqBVj6f5gI_11.mp4',\n",
              " 'avW2m6VHTyg_7.mp4',\n",
              " 'gZDyk95Xob4_4.mp4',\n",
              " 'HLFaW4oVP9E_6.mp4',\n",
              " '69824_3.mp4']"
            ]
          },
          "metadata": {
            "tags": []
          },
          "execution_count": 63
        }
      ]
    },
    {
      "cell_type": "markdown",
      "metadata": {
        "id": "C0QlfVLn-E9z"
      },
      "source": [
        "## Visualization"
      ]
    },
    {
      "cell_type": "code",
      "metadata": {
        "id": "GcMnttdavcFG"
      },
      "source": [
        "import matplotlib.pyplot as plt\n",
        "from sklearn.manifold import TSNE"
      ],
      "execution_count": 8,
      "outputs": []
    },
    {
      "cell_type": "code",
      "metadata": {
        "id": "Qbux38VLy1ml",
        "outputId": "506f081d-66bf-4447-fb7b-5bf38cec83af",
        "colab": {
          "base_uri": "https://localhost:8080/",
          "height": 34
        }
      },
      "source": [
        "all_features.shape"
      ],
      "execution_count": 47,
      "outputs": [
        {
          "output_type": "execute_result",
          "data": {
            "text/plain": [
              "(780, 1, 400)"
            ]
          },
          "metadata": {
            "tags": []
          },
          "execution_count": 47
        }
      ]
    },
    {
      "cell_type": "code",
      "metadata": {
        "id": "vvvCqkYHy51l",
        "outputId": "1152e3d2-499a-499c-aee0-b56c3c750b47",
        "colab": {
          "base_uri": "https://localhost:8080/",
          "height": 34
        }
      },
      "source": [
        "# t-sne embeddings\n",
        "all_features_squeezed = all_features.reshape(-1, 400)\n",
        "tsne_model = TSNE(n_components=2, perplexity=30, random_state=42)\n",
        "X_embedded = tsne_model.fit_transform(all_features_squeezed)\n",
        "X_embedded.shape"
      ],
      "execution_count": 48,
      "outputs": [
        {
          "output_type": "execute_result",
          "data": {
            "text/plain": [
              "(780, 2)"
            ]
          },
          "metadata": {
            "tags": []
          },
          "execution_count": 48
        }
      ]
    },
    {
      "cell_type": "code",
      "metadata": {
        "id": "BcIpVRCT5nZ-"
      },
      "source": [
        "filtered_labels = labels[labels != None]\n",
        "filtered_embeddings = X_embedded[labels != None]"
      ],
      "execution_count": 49,
      "outputs": []
    },
    {
      "cell_type": "code",
      "metadata": {
        "id": "hBhxGWpo7Ej4",
        "outputId": "be7969a1-1d52-4950-ae35-329c8b7284b0",
        "colab": {
          "base_uri": "https://localhost:8080/",
          "height": 391
        }
      },
      "source": [
        "color_labels = []\n",
        "for l in filtered_labels:\n",
        "  if l > 0:\n",
        "    color_labels.append('#91cf60')\n",
        "  elif l < 0:\n",
        "    color_labels.append('#fc8d59')\n",
        "  else:\n",
        "    color_labels.append('grey')\n",
        "\n",
        "plt.figure(figsize=(8, 6))\n",
        "plt.scatter(filtered_embeddings[:, 0], filtered_embeddings[:, 1], c=color_labels, s=1.5)"
      ],
      "execution_count": 52,
      "outputs": [
        {
          "output_type": "execute_result",
          "data": {
            "text/plain": [
              "<matplotlib.collections.PathCollection at 0x7f0f06dc7518>"
            ]
          },
          "metadata": {
            "tags": []
          },
          "execution_count": 52
        },
        {
          "output_type": "display_data",
          "data": {
            "image/png": "[encoded data removed]",
            "text/plain": [
              "<Figure size 576x432 with 1 Axes>"
            ]
          },
          "metadata": {
            "tags": [],
            "needs_background": "light"
          }
        }
      ]
    },
    {
      "cell_type": "code",
      "metadata": {
        "id": "4ku_FoOx7WDw"
      },
      "source": [
        ""
      ],
      "execution_count": null,
      "outputs": []
    }
  ]
}