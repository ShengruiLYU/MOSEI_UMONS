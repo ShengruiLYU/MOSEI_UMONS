{
  "nbformat": 4,
  "nbformat_minor": 0,
  "metadata": {
    "colab": {
      "name": "mmml-midterm.ipynb",
      "provenance": [],
      "collapsed_sections": [],
      "authorship_tag": "ABX9TyPMtbH+3NRp2gbYjxMJuDQ3",
      "include_colab_link": true
    },
    "kernelspec": {
      "name": "python3",
      "display_name": "Python 3"
    }
  },
  "cells": [
    {
      "cell_type": "markdown",
      "metadata": {
        "id": "view-in-github",
        "colab_type": "text"
      },
      "source": [
        "<a href=\"https://colab.research.google.com/github/ShengruiLYU/MOSEI_UMONS/blob/master/multilogue-net/analysis/error_analysis_lav.ipynb\" target=\"_parent\"><img src=\"https://colab.research.google.com/assets/colab-badge.svg\" alt=\"Open In Colab\"/></a>"
      ]
    },
    {
      "cell_type": "code",
      "metadata": {
        "id": "xhIJhSn5YH05"
      },
      "source": [
        "!git clone https://github.com/ShengruiLYU/MOSEI_UMONS"
      ],
      "execution_count": null,
      "outputs": []
    },
    {
      "cell_type": "code",
      "metadata": {
        "id": "lt8cX4QKSIbs"
      },
      "source": [
        "!unzip jige.zip\n",
        "!unzip transcript.zip"
      ],
      "execution_count": null,
      "outputs": []
    },
    {
      "cell_type": "code",
      "metadata": {
        "id": "wtJj-XJzYNny"
      },
      "source": [
        "import pandas as pd\n",
        "import seaborn as sns\n",
        "\n",
        "df = pd.read_csv('MOSEI_UMONS/multilogue-net/analysis/regression_lav.csv',\n",
        "                 usecols=['sample_id', 'diff', 'label_class', 'pred_class'])"
      ],
      "execution_count": null,
      "outputs": []
    },
    {
      "cell_type": "code",
      "metadata": {
        "id": "mFfsF_yFYfpW"
      },
      "source": [
        "def group_by_error(df_input):\n",
        "    df = df_input.drop(['diff', 'sample_id'], axis=1)\n",
        "    df['wrong_count'] = (df.label_class != df.pred_class)\n",
        "    return df[df.wrong_count].groupby(['label_class', 'pred_class']).sum()"
      ],
      "execution_count": null,
      "outputs": []
    },
    {
      "cell_type": "code",
      "metadata": {
        "id": "Qa9GfTfOYgSs",
        "outputId": "e4170857-2db9-4b49-c9eb-04e0ac2f0719",
        "colab": {
          "base_uri": "https://localhost:8080/",
          "height": 858
        }
      },
      "source": [
        "group_by_error(df)"
      ],
      "execution_count": null,
      "outputs": [
        {
          "output_type": "execute_result",
          "data": {
            "text/html": [
              "<div>\n",
              "<style scoped>\n",
              "    .dataframe tbody tr th:only-of-type {\n",
              "        vertical-align: middle;\n",
              "    }\n",
              "\n",
              "    .dataframe tbody tr th {\n",
              "        vertical-align: top;\n",
              "    }\n",
              "\n",
              "    .dataframe thead th {\n",
              "        text-align: right;\n",
              "    }\n",
              "</style>\n",
              "<table border=\"1\" class=\"dataframe\">\n",
              "  <thead>\n",
              "    <tr style=\"text-align: right;\">\n",
              "      <th></th>\n",
              "      <th></th>\n",
              "      <th>wrong_count</th>\n",
              "    </tr>\n",
              "    <tr>\n",
              "      <th>label_class</th>\n",
              "      <th>pred_class</th>\n",
              "      <th></th>\n",
              "    </tr>\n",
              "  </thead>\n",
              "  <tbody>\n",
              "    <tr>\n",
              "      <th rowspan=\"3\" valign=\"top\">-3</th>\n",
              "      <th>-2</th>\n",
              "      <td>411</td>\n",
              "    </tr>\n",
              "    <tr>\n",
              "      <th>-1</th>\n",
              "      <td>317</td>\n",
              "    </tr>\n",
              "    <tr>\n",
              "      <th>1</th>\n",
              "      <td>21</td>\n",
              "    </tr>\n",
              "    <tr>\n",
              "      <th rowspan=\"4\" valign=\"top\">-2</th>\n",
              "      <th>-3</th>\n",
              "      <td>21</td>\n",
              "    </tr>\n",
              "    <tr>\n",
              "      <th>-1</th>\n",
              "      <td>1269</td>\n",
              "    </tr>\n",
              "    <tr>\n",
              "      <th>1</th>\n",
              "      <td>225</td>\n",
              "    </tr>\n",
              "    <tr>\n",
              "      <th>2</th>\n",
              "      <td>4</td>\n",
              "    </tr>\n",
              "    <tr>\n",
              "      <th rowspan=\"4\" valign=\"top\">-1</th>\n",
              "      <th>-3</th>\n",
              "      <td>1</td>\n",
              "    </tr>\n",
              "    <tr>\n",
              "      <th>-2</th>\n",
              "      <td>260</td>\n",
              "    </tr>\n",
              "    <tr>\n",
              "      <th>1</th>\n",
              "      <td>1031</td>\n",
              "    </tr>\n",
              "    <tr>\n",
              "      <th>2</th>\n",
              "      <td>22</td>\n",
              "    </tr>\n",
              "    <tr>\n",
              "      <th rowspan=\"5\" valign=\"top\">0</th>\n",
              "      <th>-3</th>\n",
              "      <td>3</td>\n",
              "    </tr>\n",
              "    <tr>\n",
              "      <th>-2</th>\n",
              "      <td>87</td>\n",
              "    </tr>\n",
              "    <tr>\n",
              "      <th>-1</th>\n",
              "      <td>1443</td>\n",
              "    </tr>\n",
              "    <tr>\n",
              "      <th>1</th>\n",
              "      <td>2507</td>\n",
              "    </tr>\n",
              "    <tr>\n",
              "      <th>2</th>\n",
              "      <td>133</td>\n",
              "    </tr>\n",
              "    <tr>\n",
              "      <th rowspan=\"3\" valign=\"top\">1</th>\n",
              "      <th>-2</th>\n",
              "      <td>30</td>\n",
              "    </tr>\n",
              "    <tr>\n",
              "      <th>-1</th>\n",
              "      <td>939</td>\n",
              "    </tr>\n",
              "    <tr>\n",
              "      <th>2</th>\n",
              "      <td>538</td>\n",
              "    </tr>\n",
              "    <tr>\n",
              "      <th rowspan=\"4\" valign=\"top\">2</th>\n",
              "      <th>-2</th>\n",
              "      <td>5</td>\n",
              "    </tr>\n",
              "    <tr>\n",
              "      <th>-1</th>\n",
              "      <td>170</td>\n",
              "    </tr>\n",
              "    <tr>\n",
              "      <th>1</th>\n",
              "      <td>1714</td>\n",
              "    </tr>\n",
              "    <tr>\n",
              "      <th>3</th>\n",
              "      <td>2</td>\n",
              "    </tr>\n",
              "    <tr>\n",
              "      <th rowspan=\"3\" valign=\"top\">3</th>\n",
              "      <th>-1</th>\n",
              "      <td>21</td>\n",
              "    </tr>\n",
              "    <tr>\n",
              "      <th>1</th>\n",
              "      <td>282</td>\n",
              "    </tr>\n",
              "    <tr>\n",
              "      <th>2</th>\n",
              "      <td>246</td>\n",
              "    </tr>\n",
              "  </tbody>\n",
              "</table>\n",
              "</div>"
            ],
            "text/plain": [
              "                        wrong_count\n",
              "label_class pred_class             \n",
              "-3          -2                  411\n",
              "            -1                  317\n",
              "             1                   21\n",
              "-2          -3                   21\n",
              "            -1                 1269\n",
              "             1                  225\n",
              "             2                    4\n",
              "-1          -3                    1\n",
              "            -2                  260\n",
              "             1                 1031\n",
              "             2                   22\n",
              " 0          -3                    3\n",
              "            -2                   87\n",
              "            -1                 1443\n",
              "             1                 2507\n",
              "             2                  133\n",
              " 1          -2                   30\n",
              "            -1                  939\n",
              "             2                  538\n",
              " 2          -2                    5\n",
              "            -1                  170\n",
              "             1                 1714\n",
              "             3                    2\n",
              " 3          -1                   21\n",
              "             1                  282\n",
              "             2                  246"
            ]
          },
          "metadata": {
            "tags": []
          },
          "execution_count": 5
        }
      ]
    },
    {
      "cell_type": "code",
      "metadata": {
        "id": "gvfDH9zmZSi6",
        "outputId": "30dc2ce4-2fd1-4d4a-a67d-78f73681b930",
        "colab": {
          "base_uri": "https://localhost:8080/",
          "height": 297
        }
      },
      "source": [
        "wrong_df = group_by_error(df[df['diff'] > 1.5])\n",
        "\n",
        "sns.heatmap(wrong_df.reset_index().pivot(\n",
        "    columns='label_class', index='pred_class', values='wrong_count'),\n",
        "    cmap=\"Blues\", annot=True, fmt=\".0f\")"
      ],
      "execution_count": null,
      "outputs": [
        {
          "output_type": "execute_result",
          "data": {
            "text/plain": [
              "<matplotlib.axes._subplots.AxesSubplot at 0x7fabe1cbbd30>"
            ]
          },
          "metadata": {
            "tags": []
          },
          "execution_count": 6
        },
        {
          "output_type": "display_data",
          "data": {
            "image/png": "[encoded data removed]",
            "text/plain": [
              "<Figure size 432x288 with 2 Axes>"
            ]
          },
          "metadata": {
            "tags": [],
            "needs_background": "light"
          }
        }
      ]
    },
    {
      "cell_type": "code",
      "metadata": {
        "id": "4lRYZgfVZVUR",
        "outputId": "a6c77f12-66ab-429e-8b20-f4e194e7968c",
        "colab": {
          "base_uri": "https://localhost:8080/",
          "height": 408
        }
      },
      "source": [
        "wrong_df = group_by_error(df[df['diff'] > 2.0]).sort_values(by='wrong_count')\n",
        "\n",
        "wrong_df"
      ],
      "execution_count": null,
      "outputs": [
        {
          "output_type": "execute_result",
          "data": {
            "text/html": [
              "<div>\n",
              "<style scoped>\n",
              "    .dataframe tbody tr th:only-of-type {\n",
              "        vertical-align: middle;\n",
              "    }\n",
              "\n",
              "    .dataframe tbody tr th {\n",
              "        vertical-align: top;\n",
              "    }\n",
              "\n",
              "    .dataframe thead th {\n",
              "        text-align: right;\n",
              "    }\n",
              "</style>\n",
              "<table border=\"1\" class=\"dataframe\">\n",
              "  <thead>\n",
              "    <tr style=\"text-align: right;\">\n",
              "      <th></th>\n",
              "      <th></th>\n",
              "      <th>wrong_count</th>\n",
              "    </tr>\n",
              "    <tr>\n",
              "      <th>label_class</th>\n",
              "      <th>pred_class</th>\n",
              "      <th></th>\n",
              "    </tr>\n",
              "  </thead>\n",
              "  <tbody>\n",
              "    <tr>\n",
              "      <th>0</th>\n",
              "      <th>-3</th>\n",
              "      <td>3</td>\n",
              "    </tr>\n",
              "    <tr>\n",
              "      <th>-2</th>\n",
              "      <th>2</th>\n",
              "      <td>4</td>\n",
              "    </tr>\n",
              "    <tr>\n",
              "      <th>2</th>\n",
              "      <th>-2</th>\n",
              "      <td>5</td>\n",
              "    </tr>\n",
              "    <tr>\n",
              "      <th>-1</th>\n",
              "      <th>2</th>\n",
              "      <td>6</td>\n",
              "    </tr>\n",
              "    <tr>\n",
              "      <th>1</th>\n",
              "      <th>-2</th>\n",
              "      <td>8</td>\n",
              "    </tr>\n",
              "    <tr>\n",
              "      <th>-3</th>\n",
              "      <th>1</th>\n",
              "      <td>21</td>\n",
              "    </tr>\n",
              "    <tr>\n",
              "      <th>3</th>\n",
              "      <th>-1</th>\n",
              "      <td>21</td>\n",
              "    </tr>\n",
              "    <tr>\n",
              "      <th>2</th>\n",
              "      <th>-1</th>\n",
              "      <td>63</td>\n",
              "    </tr>\n",
              "    <tr>\n",
              "      <th>-2</th>\n",
              "      <th>1</th>\n",
              "      <td>67</td>\n",
              "    </tr>\n",
              "    <tr>\n",
              "      <th>3</th>\n",
              "      <th>1</th>\n",
              "      <td>87</td>\n",
              "    </tr>\n",
              "    <tr>\n",
              "      <th>-3</th>\n",
              "      <th>-1</th>\n",
              "      <td>97</td>\n",
              "    </tr>\n",
              "  </tbody>\n",
              "</table>\n",
              "</div>"
            ],
            "text/plain": [
              "                        wrong_count\n",
              "label_class pred_class             \n",
              " 0          -3                    3\n",
              "-2           2                    4\n",
              " 2          -2                    5\n",
              "-1           2                    6\n",
              " 1          -2                    8\n",
              "-3           1                   21\n",
              " 3          -1                   21\n",
              " 2          -1                   63\n",
              "-2           1                   67\n",
              " 3           1                   87\n",
              "-3          -1                   97"
            ]
          },
          "metadata": {
            "tags": []
          },
          "execution_count": 7
        }
      ]
    },
    {
      "cell_type": "code",
      "metadata": {
        "id": "nkj5pjBY7p_F",
        "outputId": "1a3e689f-9194-4c09-dc73-3b881e2e77ea",
        "colab": {
          "base_uri": "https://localhost:8080/",
          "height": 302
        }
      },
      "source": [
        "dist_df = df.label_class.value_counts(normalize=True).sort_index()\n",
        "sns.set()\n",
        "ax = sns.barplot(x=dist_df.index, y=dist_df.values)\n",
        "ax.set_xlabel('label_class')"
      ],
      "execution_count": null,
      "outputs": [
        {
          "output_type": "execute_result",
          "data": {
            "text/plain": [
              "Text(0.5, 0, 'label_class')"
            ]
          },
          "metadata": {
            "tags": []
          },
          "execution_count": 8
        },
        {
          "output_type": "display_data",
          "data": {
            "image/png": "[encoded data removed]",
            "text/plain": [
              "<Figure size 432x288 with 1 Axes>"
            ]
          },
          "metadata": {
            "tags": []
          }
        }
      ]
    },
    {
      "cell_type": "code",
      "metadata": {
        "id": "IdRYdQEsZfoj"
      },
      "source": [
        "pd.set_option('display.max_rows', 100)\n",
        "look_df = df[(df['diff'] > 2.0) & (df.label_class < 0) & (df.pred_class > 0)]"
      ],
      "execution_count": null,
      "outputs": []
    },
    {
      "cell_type": "code",
      "metadata": {
        "id": "2VKmM-ZRZchR",
        "outputId": "9af903d0-e236-4c3a-e5b4-4f372c18b881",
        "colab": {
          "base_uri": "https://localhost:8080/"
        }
      },
      "source": [
        "look_df.iloc[0]"
      ],
      "execution_count": null,
      "outputs": [
        {
          "output_type": "execute_result",
          "data": {
            "text/plain": [
              "sample_id      XQOUZhWI1B0:2\n",
              "diff                 3.50775\n",
              "label_class               -3\n",
              "pred_class                 1\n",
              "Name: 0, dtype: object"
            ]
          },
          "metadata": {
            "tags": []
          },
          "execution_count": 10
        }
      ]
    },
    {
      "cell_type": "code",
      "metadata": {
        "id": "xBGcCQdmZrNX"
      },
      "source": [
        "import os\n",
        "\n",
        "def get_transcript(idx, verbose=False):\n",
        "    if verbose:\n",
        "        print(df.loc[idx])\n",
        "    file_path = df.loc[idx].sample_id.replace(':', '_')\n",
        "\n",
        "    if os.path.exists('jige/{}.mp4'.format(file_path)):\n",
        "        video_id, clip_id = file_path.rsplit('_', 1)\n",
        "        transcript = pd.read_csv('Combined/{}.txt'.format(video_id), header=None, sep='___', engine='python')\n",
        "        if verbose:\n",
        "            print(transcript[4])\n",
        "        line = transcript[transcript[1] == int(clip_id)].values[0][4]\n",
        "        return df.loc[idx]['label_class'], df.loc[idx]['pred_class'], line\n",
        "    \n",
        "    return None"
      ],
      "execution_count": null,
      "outputs": []
    },
    {
      "cell_type": "code",
      "metadata": {
        "id": "AeGMgtlxZ46f",
        "outputId": "9efd70a7-ca57-4ac7-b664-6f2a275009d8",
        "colab": {
          "base_uri": "https://localhost:8080/"
        }
      },
      "source": [
        "get_transcript(0, verbose=True)"
      ],
      "execution_count": null,
      "outputs": [
        {
          "output_type": "stream",
          "text": [
            "sample_id      XQOUZhWI1B0:2\n",
            "diff                 3.50775\n",
            "label_class               -3\n",
            "pred_class                 1\n",
            "Name: 0, dtype: object\n",
            "0    Maam, I replaced the first burger free because...\n",
            "1     Now you're telling me that this burger is bur...\n",
            "2    25 an hour, and I have to put up with the like...\n",
            "3     I'll tell you what, why don't you come back h...\n",
            "4     You got to smile nice for all the customers w...\n",
            "Name: 4, dtype: object\n"
          ],
          "name": "stdout"
        },
        {
          "output_type": "execute_result",
          "data": {
            "text/plain": [
              "(-3, 1, '25 an hour, and I have to put up with the likes of you')"
            ]
          },
          "metadata": {
            "tags": []
          },
          "execution_count": 14
        }
      ]
    },
    {
      "cell_type": "code",
      "metadata": {
        "id": "-txXzcg8co1K",
        "outputId": "527403f3-2503-407a-b33c-ae769eda62e8",
        "colab": {
          "base_uri": "https://localhost:8080/"
        }
      },
      "source": [
        "for idx in look_df.index:\n",
        "    line = get_transcript(idx)\n",
        "    if line is not None:\n",
        "        print(idx, '\\t', df.loc[idx].sample_id, '\\t', line)"
      ],
      "execution_count": null,
      "outputs": [
        {
          "output_type": "stream",
          "text": [
            "0 \t XQOUZhWI1B0:2 \t (-3, 1, '25 an hour, and I have to put up with the likes of you')\n",
            "7 \t SI39azgVUR8:1 \t (-3, 1, 'I tried so many different diet plans that all turned out to be bogus, I was so frustrated that I was still overweight!')\n",
            "8 \t XQOUZhWI1B0:1 \t (-3, 1, \" Now you're telling me that this burger is burnt? You have got to be kidding me! Where do you think we are? This is McDonald's! We ain't serving no sirloin steak! $5\")\n",
            "13 \t WoL4fCxGd8Q:0 \t (-3, 1, \"Hey everybody what's up I wanted to do a review of the new Kanye West, Paul McCartney and Rihanna Collaboration Four Five Seconds.\")\n",
            "18 \t 8P0zm2oYDyY:1 \t (-3, 1, 'Contacted 311 who transferred me to the Department of Consumer Affair and I never knew I could do anything like this.')\n",
            "20 \t 233356:8 \t (-3, 1, ' In fact I think it speaks to the moral bankruptcy of our culture {laugh} and my own bad taste that I would go to this movie')\n",
            "22 \t KI2sU-mhM44:3 \t (-3, 1, 'To just bring down, at a minimum, bring down the interest payments on those loans.')\n",
            "32 \t 202810:4 \t (-2, 2, \" There's not a lot of substance to this movie it's just sort of following a trail of people that are sort of distantly connected to each other through other characters in the movie and there's not a lot of payoff at the end\")\n",
            "45 \t Yi6Qyn4X8is:5 \t (-3, 1, \"It came as a big disappoint to a lot of people and it's a pretty disappointing song to me . I think a lot of people had a lot of expectations about what the song would be but i think a lot of the time we have these amazing musicians get together and they try to make music and they have amazing music on their own but together they just don't have chemistry and they can't make good music.\")\n",
            "47 \t XEZ7e4pf1xE:2 \t (-2, 1, 'Has it said some problematic things')\n",
            "56 \t SI39azgVUR8:2 \t (-2, 1, 'My weight problem was starting to really effective my life.')\n",
            "62 \t GMa0cIAltnw:3 \t (-3, 1, 'You must come out and be separate, start following Jesus and get into an exclusive relationship with Him.')\n",
            "70 \t XQOUZhWI1B0:4 \t (-2, 1, ' You got to smile nice for all the customers while the french fry boys are making perverted jokes')\n",
            "76 \t 259260:29 \t (-3, 1, \" You're funnier than the rest of em\")\n",
            "84 \t icIS9VfbzMw:8 \t (-3, 1, 'How soon?')\n",
            "85 \t 3y2YInNUmHY:1 \t (-1, 2, 'Nick Politylo, Advertising Manager, Hoyts Cinema Advertising: I approached Gina originally to help with some marketing material and I can see why people love working with her.')\n",
            "90 \t 25271:10 \t (-3, 1, \" It's like a surveillance camera on a spaceship\")\n",
            "97 \t 2BuFtglEcaY:7 \t (-2, 1, ' And then of course the many celebrations and then the hallway conversations that we all enjoy so much')\n",
            "98 \t 90172:11 \t (-3, 1, \" Doesn't actually have a commentary track but it has what it calls a conversation with the director, which is basically you know, a pretty short short interview that doesn't really, you know, say that much about the direction because honestly there there wasn't really much that focus on the direction in the first place you know\")\n",
            "100 \t 275248:0 \t (-2, 1, \"Hi this Matt movie review for Momma Mia this movie is pretty much a movie all about Abba, their songs and starring Meryl Streep and and (stutter) I don't know, I don't know why I thought this movie would be interesting, I didn't realize I didn't see the preview to the movie I heard that it had the songs in there I thought well this will be interesting and I don't like musicals so this was hard for me to watch and one big problem with it is the actors are singing the songs and you know their voice aren't the best (umm) Meryl Streep she does a pretty good job actually she doesn't act very good in this movie, her acting's like so so, and her singing was pretty good, couple of songs pretty good (umm) so you you (stutter) might enjoy this if you like musicals (uhh) I know a lot of people did enjoy this and they really were excited about seeing this and actually wanna see this again for me I wouldn't want to see this again (umm) I didn't really like the movie, and I thought they could've I thought Meryl Streep could been done could been done a lot better at this (umm) Pierce Brosnan is actually in this movie too and he sings horribly when (stutter) he comes up the scenes that he sings, just just (stutter) close your ears run away it's it's bad\")\n",
            "101 \t bdtwQxwySN0:8 \t (-3, 1, 'People have also accused me of laughing or smiling saying that I am prideful and I make fun of others who are in sin, this is also a lie.')\n",
            "103 \t Vuay0mVKkik:1 \t (-2, 1, \"I've been living in Colorado for 15 years.\")\n",
            "104 \t 2QXHdu2zlQY:0 \t (-2, 1, 'Scott Reed talking: Some people in the community as the game has become more, um, more regarded . . . have raised the concerns about how we as graduate students have absorbed a lot of cost in producing the game and um . . . trust me, it concerns us too.')\n",
            "107 \t 262165:2 \t (-2, 1, ' This is Freejack')\n",
            "114 \t 209775:4 \t (-3, 1, \" I find the ladies very attractive (uhh) and very talented actresses, I just didn't like them very much in this\")\n"
          ],
          "name": "stdout"
        }
      ]
    },
    {
      "cell_type": "code",
      "metadata": {
        "id": "GXepVmWbdiXX"
      },
      "source": [
        "\"\"\"\n",
        "Observation: some videos have several seconds of leading blank or completely blank\n",
        "\n",
        "Error cases (label- pred+):\n",
        "1. video is clearly negative but the transcript contains some positive words, e.g., XQOUZhWI1B0:2,4, bdtwQxwySN0:8\n",
        "2. word is clearly negative but the video has some smile, e.g., SI39azgVUR8:1 (an interview?), 2QXHdu2zlQY:0\n",
        "3. negative review of something in the words but not conveyed through expression\n",
        "   or even laughed to mitigate embarassment, e.g., 233356:8, 202810:4, Yi6Qyn4X8is:5, 90172:11, 209775:4\n",
        "4. word ambiguity and/or sarcasm, e.g., 259260:29\n",
        "5. wrong labels? video clearly positive, e.g., 2BuFtglEcaY:7\n",
        "6. mixed sentiment in two clauses, e.g., 209775:4\n",
        "\"\"\" "
      ],
      "execution_count": null,
      "outputs": []
    },
    {
      "cell_type": "code",
      "metadata": {
        "id": "hh68NYJHh4mr",
        "outputId": "27066b3d-89d3-470d-9eb2-fad1060895aa",
        "colab": {
          "base_uri": "https://localhost:8080/"
        }
      },
      "source": [
        "pd.set_option('display.max_colwidth', 200)\n",
        "get_transcript(50, True)"
      ],
      "execution_count": null,
      "outputs": [
        {
          "output_type": "stream",
          "text": [
            "sample_id      130633:7\n",
            "diff            2.61096\n",
            "label_class           3\n",
            "pred_class           -1\n",
            "Name: 50, dtype: object\n",
            "0                                                                                                                                        Alright (uhh) this is going to be a review of a foreign film Old Boy\n",
            "1                                                                                                               This film comes (uhh) from Korea and it is highly regarded as (uhh) just a great film overall\n",
            "2                                               (uhh) I'm not, I can't go into the plot or the storyline without giving anything away, without giving (stutter) any spoilers away, but I can set up the story\n",
            "3                                                                                                                                  (uhh) Dae-Su is a Korean man who one day gets locked up in this hotel room\n",
            "4                                                                                                                                            He is basically jailed for fifteen years and he doesn't know why\n",
            "5      And the rest of the film involves him trying to find out why he got locked up, who did this to him, and he tries to see if he can exact revenge on the person who (uhh) who jailed him for fifteen ...\n",
            "6                                                                                                                                                                    (uhh) this a wonderful (uhh) masterpiece\n",
            "7                                                                                                                                  If you're not into foreign films, you probably will be after watching this\n",
            "8                                        (uhh) I recommend watching it in the dubbed, (uhh) not the dubbed but the subtitled version (uhh) just to get the the (stutter) entire effect, the entire feel of it\n",
            "9                                                                                                                                                                                            It is done great\n",
            "10                                                                                                                                                             (uhh) the actors are great, storyline is great\n",
            "Name: 4, dtype: object\n"
          ],
          "name": "stdout"
        },
        {
          "output_type": "execute_result",
          "data": {
            "text/plain": [
              "(3,\n",
              " -1,\n",
              " \" If you're not into foreign films, you probably will be after watching this\")"
            ]
          },
          "metadata": {
            "tags": []
          },
          "execution_count": 16
        }
      ]
    },
    {
      "cell_type": "code",
      "metadata": {
        "id": "J4Z2Kv7giArr",
        "outputId": "e3eac98b-4a49-4e2d-8d54-63ed82fd9181",
        "colab": {
          "base_uri": "https://localhost:8080/"
        }
      },
      "source": [
        "look_df = df[(df['diff'] > 2.0) & (df.label_class > 0) & (df.pred_class < 0)]\n",
        "for idx in look_df.index:\n",
        "    line = get_transcript(idx)\n",
        "    if line is not None:\n",
        "        print(idx, '\\t', df.loc[idx].sample_id, '\\t', line)"
      ],
      "execution_count": null,
      "outputs": [
        {
          "output_type": "stream",
          "text": [
            "1 \t 256976:12 \t (2, -2, ' I would just wait for it to come out on a network television when it gets replayed three times for a weekend and then every other weekend for the rest of its life')\n",
            "4 \t 237363:4 \t (2, -2, ' (uhh) This movie is a musical')\n",
            "5 \t 275620:7 \t (3, -1, \" It is about (umm) a (uhh) a Vulcan who commandeers the Enterprise, cast and crew and all, and (uhh) tries to find God at the end of space and it's (uhh) just as obnoxious as it sounds\")\n",
            "9 \t 52839:4 \t (3, -1, \" (umm) Steven Spielberg won a ton of like, (uhh) highest honors from the army and stuff like that too, that that's (stutter) how good this movie was, like it was very realistic and it told from the perspective of a soldier\")\n",
            "10 \t 266938:38 \t (3, -1, \" He can get back into that, I don't know what's wrong with him why is he doing this, I'm really pissed off at this movie\")\n",
            "12 \t 266396:34 \t (3, -1, ' And he holds the movie up')\n",
            "14 \t 225343:14 \t (3, -1, \" (umm) So if I had to recommend this one I would probably stay away from it just because it's blah\")\n",
            "15 \t 225416:14 \t (3, -1, \" (umm) Weaver does her best with what she's given, and (uhh) but it really doesn't amount to much in my opinion\")\n",
            "16 \t 59333:14 \t (2, -2, ' Whoops sorry')\n",
            "17 \t 136211:5 \t (3, -1, \" (umm) It's definitely something that is worth the money you got, you've got (stutter) to see the rest of the Die Hards\")\n",
            "19 \t 229090:19 \t (3, -1, \" And it's even more unbearable to watch this uncut version\")\n",
            "21 \t T4e4Ba1sRg0:3 \t (3, -1, 'They deplored that the Syrian regime failed to provide immediate and secure access for the United Nations inspectors to the sites of the attacks.')\n",
            "23 \t 24351:11 \t (2, -1, ' I suggest going to pick this up tonight if you were looking for a hilarious comedy')\n",
            "24 \t 234053:2 \t (3, -1, ' Right here, I have the two-disc special edition')\n",
            "34 \t 190740:9 \t (2, -2, \" And I just didn't like the movie, so this is Silent Hill\")\n",
            "35 \t 271594:21 \t (2, -1, ' So the story itself is not done very well')\n",
            "36 \t 97992:10 \t (2, -1, \" Very just it's probably the best revenge movie ever made\")\n",
            "37 \t 244261:2 \t (3, -1, \" (umm) I can't go any farther without telling you it's a five out of five stars\")\n",
            "38 \t 237363:7 \t (2, -1, \" So, if you can get past the fact that there's Johnny Depp singing in this movie, (uhh) more power to you I guess\")\n",
            "40 \t 238023:16 \t (2, -1, \" And (umm) I don't know if it's how these how these (stutter) writers, Bret Easton Ellis, if that how he perceived, perceived, I don't know, I assume he went to college\")\n",
            "42 \t 198112:11 \t (3, -1, ' You can tell this is made by (uhh) film students')\n",
            "50 \t 130633:7 \t (3, -1, \" If you're not into foreign films, you probably will be after watching this\")\n",
            "51 \t 97095:2 \t (2, -2, ' Basically, the the (stutter) fourth movie in the Die Hard series, The Die Hard Trilogy')\n",
            "58 \t 92521:7 \t (2, -1, \" But (uhh) not for their acting abilities, mostly and it was mostly eye candy but (umm) yeah, it was pretty bad movie I'd stay away from it\")\n",
            "64 \t 128949:7 \t (3, -1, \" (umm) It wasn't as funny as I had hoped it would be\")\n",
            "72 \t R8leu0tEJ4o:1 \t (2, -1, \"Now, let's set the record straight.\")\n",
            "81 \t 262165:0 \t (3, -1, 'Hello, everyone')\n",
            "82 \t RTzDzj4NxIM:6 \t (3, -1, 'He falls in love with the girl and after the death of his brother vows to kill Bridal Mask')\n",
            "86 \t 216007:2 \t (2, -1, \" (umm) I'm not entirely convinced that the people who made this movie understood the books at all\")\n",
            "88 \t 241629:3 \t (3, -1, '(uhh) Knocked Up was a hilarious movie that I really enjoyed and (uhh) was expecting something along that lines for this movie')\n",
            "93 \t 233389:6 \t (2, -1, ' (umm) big west was before my time and I can see her appeal and what she meant to the audience and why men were intrigued by her (uhh) and as far as Frank Frank (stutter) Capra goes, he has made much better movies after Platinum Blonde')\n"
          ],
          "name": "stdout"
        }
      ]
    },
    {
      "cell_type": "code",
      "metadata": {
        "id": "IxRpjzbgmMGP"
      },
      "source": [
        "\"\"\"\n",
        "Observation:\n",
        "a higher ratio of uhh, umm, stutter (or broken sentence) in text even though words are good\n",
        "a lot don't have videos although words are very good (e.g., 244261:2 )\n",
        "\n",
        "Error cases (label+ pred-):\n",
        "1. positive review of something in the words but not conveyed through expression, e.g., 136211:5\n",
        "2. wrong labels? clearly negative, e.g., 225343:14, 266938:38 & 229090:19 & 190740:9 (no visual),\n",
        "   225416:14 (mixed sentiment), 92521:7, 128949:7, 216007:2\n",
        "3. Neutral introductions to the plots, e.g., RTzDzj4NxIM:6, \n",
        "\"\"\" "
      ],
      "execution_count": null,
      "outputs": []
    },
    {
      "cell_type": "code",
      "metadata": {
        "id": "LNSMxd90uHl0",
        "outputId": "1f2fb494-8689-4442-e538-5cb3900daeec",
        "colab": {
          "base_uri": "https://localhost:8080/"
        }
      },
      "source": [
        "look_df = df[(df['diff'] > 2.0) & (df.label_class > 0) & (df.pred_class > 0)]\n",
        "for idx in look_df.index:\n",
        "    line = get_transcript(idx)\n",
        "    if line is not None:\n",
        "        print(idx, '\\t', df.loc[idx].sample_id, '\\t', line)"
      ],
      "execution_count": null,
      "outputs": [
        {
          "output_type": "stream",
          "text": [
            "11 \t 91844:3 \t (3, 1, \" This is Bound uhh starring Jennifer Tilly, Gina Gershon, and Joe Pantoliano and Patoliano is incredible in this movie, I've never seen him play a part this well\")\n",
            "29 \t 209354:6 \t (3, 1, ' This movie is full of action, intensity, I really like what they do with the vampires and the werewolves')\n",
            "39 \t 91844:0 \t (3, 1, \"Hi I'm Marshal Hammer and right now I want to share with you this film, I've got it on DVD\")\n",
            "44 \t 210618:3 \t (3, 1, \" So he (umm) you know, really thinks that he's never you know, that he's not gonna go anywhere\")\n",
            "48 \t 227426:12 \t (3, 1, \" It's just she did not pull this role off\")\n",
            "49 \t 125730:5 \t (3, 1, ' I had never seen the other shows, but I thoroughly enjoyed this one')\n",
            "52 \t 53766:7 \t (3, 1, ' They are not really autographed by they have their signatures on them from Geddy Lee and Alex Lifeson and also has a (uhh) great little booklet of photos with (uhh) other trinkets it thrown in like stickers, (uhh) (stutter) and a replica of a backstage pass so you can pretend that you were ever at one of these concerts')\n",
            "53 \t 8404:8 \t (3, 1, ' It does have a lot of blood and gore and stuff but it also has a great storyline')\n",
            "63 \t 245243:3 \t (3, 1, \" (uhh) Chris Elliott does a really nice supporting job in here as the camera man (umm) I would really recommend getting this DVD (uhh) and if you rent it, or buy it, or whatever you do (uhh) You've got to listen to the Harold Ramis commentary track it's very informative, (uhh) very funny tell's you a lot about the movie (umm) little tidbits like they assumed while they're making the movie that (uhh) Bill Murray is is (stutter) stuck in this day for about ten years\")\n",
            "68 \t Bg-PA5KTjNs:7 \t (3, 1, 'I followed the instructions closely and after a few weeks the hair loss actually stopped.')\n",
            "69 \t 53766:9 \t (3, 1, ' I definitely pick it up if you are a fan, if you just are a kid today and want to know what a great rock band out there is still living and, and working and breathing sounds like you know, pick it up and check it out')\n",
            "71 \t 12812:3 \t (3, 1, \" There is a very exciting scene where they're all driving Minis, Mini Coopers, and there's a bunch of stuff in it and they're going through all these little alleyways and down stairs, places Minis wouldn't drive and it's really cool\")\n",
            "73 \t 89747:4 \t (3, 1, ' (umm) You know throughout he, you know the love interest, Andie MacDowell, falls in love (stutter) continually tries, you know, to get into the bed, you know, although he only has an actual day to do it because he keeps starting over')\n",
            "75 \t 239572:0 \t (3, 1, 'Hello, my name is Sarah and I will be doing my video opinion of the Walt Disney movie Underdog')\n",
            "80 \t 84133:4 \t (3, 1, ' (umm) One of the exceptions to my rule is Daredevil')\n",
            "83 \t 194625:11 \t (3, 1, ' (umm) The costumes are great')\n",
            "89 \t 97095:0 \t (3, 1, 'Hi')\n",
            "106 \t 79356:9 \t (3, 1, \" (uhh) There's some tense scenes in it, some hunting scenes\")\n",
            "113 \t 244261:9 \t (3, 1, \" But (umm) yeah, basically (umm) he hears about this place and he's kind of famous, not really famous, but so so\")\n"
          ],
          "name": "stdout"
        }
      ]
    },
    {
      "cell_type": "code",
      "metadata": {
        "id": "OrHlCFDEuKSp"
      },
      "source": [
        "\"\"\"\n",
        "All have underestimated sentiment. Never overestimates.\n",
        "\n",
        "Label seems exaggerated sometimes, e.g., \n",
        "\"\"\""
      ],
      "execution_count": null,
      "outputs": []
    },
    {
      "cell_type": "code",
      "metadata": {
        "id": "i_F-vFBCu26m",
        "outputId": "947dc221-2c10-487a-d404-49097ab0e295",
        "colab": {
          "base_uri": "https://localhost:8080/"
        }
      },
      "source": [
        "look_df = df[(df['diff'] > 2.0) & (df.label_class < 0) & (df.pred_class < 0)]\n",
        "for idx in look_df.index:\n",
        "    line = get_transcript(idx)\n",
        "    if line is not None:\n",
        "        print(idx, '\\t', df.loc[idx].sample_id, '\\t', line)"
      ],
      "execution_count": null,
      "outputs": [
        {
          "output_type": "stream",
          "text": [
            "27 \t 255224:6 \t (-3, -1, ' (uhh) If if (stutter) you were sleeping or comatose in the film you might enjoy it')\n",
            "30 \t 291121:7 \t (-3, -1, ' (umm) In the novels Becky Bloomwood is, you know, I think that her character is a little bit smarter but in this movie she comes off as very dumb')\n",
            "41 \t 7oFimEZJQ_A:0 \t (-3, -1, \"Hi, it's Craig Fugate at FEMA.\")\n",
            "43 \t 135623:7 \t (-3, -1, \" I feel like there's a lot of movies that have come out recently based on comic books that are way better than the Spider Man ones and it's just kind of a disappointment\")\n",
            "46 \t 210259:5 \t (-3, -1, \" The other scene is back in Afghanistan and there's a platoon of, you know, the army, the marines who are kind of fighting, and the third is actually a philosophy professor who's talking to his student in his office\")\n",
            "54 \t 210259:11 \t (-3, -1, \" It's it's (stutter) not at all good, I'm sorry for the words but that's what the movie is\")\n",
            "55 \t 244180:4 \t (-3, -1, \" It really doesn't do the book justice at all\")\n",
            "57 \t 50103:0 \t (-3, -1, 'This is the movie Anacondas: The Hunt for the Blood Orchid')\n",
            "59 \t 2S00zYaVrtc:0 \t (-3, -1, 'Hello, this is Linda Katehi, the chancellor at UC Davis, and I would like to speak with you through this video which will become the first of a series of such messages to connect with you.')\n",
            "60 \t 221740:5 \t (-3, -1, \" It is stupid, ridiculous, slapstick, like really cheesy, cheesy lines that they think they're funny and I don't think they're funny\")\n",
            "65 \t 2W-U94hXuK0:1 \t (-3, -1, 'I was a victim of a horrible crime when I was young, and went on after that to a career as a defense attorney, and understand that no matter what the crime is, there needs to be a just process.')\n",
            "67 \t 256174:5 \t (-3, -1, ' It was everything you might expect from such a movie')\n",
            "74 \t 251826:0 \t (-3, -1, \"{cough} Hi, I'm Mike with expotv and this is my movie review of The Hottie and the Nottie\")\n",
            "77 \t bfy28AlY-TQ:0 \t (-3, -1, \"Okay, I'm going to show you a sample monologue, which when you go to do your monologue, you simply have to introduce the title and the author.\")\n",
            "78 \t 291121:2 \t (-3, -1, ' Confessions of a Shopaholic is (umm) based on a series of novels (stutter) by Sophie Consella')\n",
            "79 \t 110788:5 \t (-3, -1, \" (umm) They say two thumbs up (umm) they're lying\")\n",
            "87 \t 248837:2 \t (-3, -1, \" I didn't enjoy this movie at all\")\n",
            "92 \t 216007:30 \t (-3, -1, ' This movie is terrible, and looks great')\n",
            "96 \t 84133:10 \t (-3, -1, ' There are a couple movies that Ben Affleck is in that I I (stutter) actually like')\n",
            "99 \t 275620:11 \t (-3, -1, \" There's a commentary with William Shatner and his daughter, who wrote a book about the process of making this movie\")\n",
            "108 \t 270665:9 \t (-3, -1, \" And they weren't really friends at all\")\n",
            "109 \t 252912:7 \t (-3, -1, \" (uhh) It's just not awesome\")\n",
            "110 \t 229090:6 \t (-3, -1, ' Manos is nearly unwatchable and I think the only, the only decent excuse for watching it is either watching the episode of Mystery Science Theater or being Quentin Tarantino (stutter) and enjoying it for some reason')\n",
            "111 \t 270254:12 \t (-3, -1, ' (umm) Okay the one thing that drove me nuts was the camera')\n",
            "112 \t 84176:10 \t (-3, -1, \" So as a person who like, you know I know a lot of people who are like, I don't, I don't (stutter) dig the superhero movies, they're too corny for me\")\n"
          ],
          "name": "stdout"
        }
      ]
    },
    {
      "cell_type": "code",
      "metadata": {
        "id": "7hK0QY-A5xpB"
      },
      "source": [
        ""
      ],
      "execution_count": null,
      "outputs": []
    }
  ]
}