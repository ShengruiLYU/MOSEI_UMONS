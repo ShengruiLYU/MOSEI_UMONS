{
  "nbformat": 4,
  "nbformat_minor": 0,
  "metadata": {
    "colab": {
      "name": "mmml-first-assignment.ipynb",
      "provenance": [],
      "collapsed_sections": [
        "WtmoD5kx_KxH",
        "C0QlfVLn-E9z"
      ],
      "toc_visible": true,
      "machine_shape": "hm",
      "authorship_tag": "ABX9TyMAfXyExZVI0K17hu4Zp4fd"
    },
    "kernelspec": {
      "name": "python3",
      "display_name": "Python 3"
    },
    "widgets": {
      "application/vnd.jupyter.widget-state+json": {
        "56bdbbf167cd4d57be782427aa71c569": {
          "model_module": "@jupyter-widgets/controls",
          "model_name": "HBoxModel",
          "state": {
            "_view_name": "HBoxView",
            "_dom_classes": [],
            "_model_name": "HBoxModel",
            "_view_module": "@jupyter-widgets/controls",
            "_model_module_version": "1.5.0",
            "_view_count": null,
            "_view_module_version": "1.5.0",
            "box_style": "",
            "layout": "IPY_MODEL_baf0b4ac8e8440459cbae7396b65d3c9",
            "_model_module": "@jupyter-widgets/controls",
            "children": [
              "IPY_MODEL_c71eb55868af4362aefc797056d7b227",
              "IPY_MODEL_37694fc9a2c1433b8911bd0badd25114"
            ]
          }
        },
        "baf0b4ac8e8440459cbae7396b65d3c9": {
          "model_module": "@jupyter-widgets/base",
          "model_name": "LayoutModel",
          "state": {
            "_view_name": "LayoutView",
            "grid_template_rows": null,
            "right": null,
            "justify_content": null,
            "_view_module": "@jupyter-widgets/base",
            "overflow": null,
            "_model_module_version": "1.2.0",
            "_view_count": null,
            "flex_flow": null,
            "width": null,
            "min_width": null,
            "border": null,
            "align_items": null,
            "bottom": null,
            "_model_module": "@jupyter-widgets/base",
            "top": null,
            "grid_column": null,
            "overflow_y": null,
            "overflow_x": null,
            "grid_auto_flow": null,
            "grid_area": null,
            "grid_template_columns": null,
            "flex": null,
            "_model_name": "LayoutModel",
            "justify_items": null,
            "grid_row": null,
            "max_height": null,
            "align_content": null,
            "visibility": null,
            "align_self": null,
            "height": null,
            "min_height": null,
            "padding": null,
            "grid_auto_rows": null,
            "grid_gap": null,
            "max_width": null,
            "order": null,
            "_view_module_version": "1.2.0",
            "grid_template_areas": null,
            "object_position": null,
            "object_fit": null,
            "grid_auto_columns": null,
            "margin": null,
            "display": null,
            "left": null
          }
        },
        "c71eb55868af4362aefc797056d7b227": {
          "model_module": "@jupyter-widgets/controls",
          "model_name": "FloatProgressModel",
          "state": {
            "_view_name": "ProgressView",
            "style": "IPY_MODEL_61423a3f185647fcb25903f6053f5d58",
            "_dom_classes": [],
            "description": "100%",
            "_model_name": "FloatProgressModel",
            "bar_style": "success",
            "max": 126162996,
            "_view_module": "@jupyter-widgets/controls",
            "_model_module_version": "1.5.0",
            "value": 126162996,
            "_view_count": null,
            "_view_module_version": "1.5.0",
            "orientation": "horizontal",
            "min": 0,
            "description_tooltip": null,
            "_model_module": "@jupyter-widgets/controls",
            "layout": "IPY_MODEL_041062d97dcb48fe86d9ca59a7233499"
          }
        },
        "37694fc9a2c1433b8911bd0badd25114": {
          "model_module": "@jupyter-widgets/controls",
          "model_name": "HTMLModel",
          "state": {
            "_view_name": "HTMLView",
            "style": "IPY_MODEL_a8d39056d75b46df9e638c06c6cfe88e",
            "_dom_classes": [],
            "description": "",
            "_model_name": "HTMLModel",
            "placeholder": "​",
            "_view_module": "@jupyter-widgets/controls",
            "_model_module_version": "1.5.0",
            "value": " 120M/120M [01:34&lt;00:00, 1.33MB/s]",
            "_view_count": null,
            "_view_module_version": "1.5.0",
            "description_tooltip": null,
            "_model_module": "@jupyter-widgets/controls",
            "layout": "IPY_MODEL_55b55aa462fa452d9555197073b7e20a"
          }
        },
        "61423a3f185647fcb25903f6053f5d58": {
          "model_module": "@jupyter-widgets/controls",
          "model_name": "ProgressStyleModel",
          "state": {
            "_view_name": "StyleView",
            "_model_name": "ProgressStyleModel",
            "description_width": "initial",
            "_view_module": "@jupyter-widgets/base",
            "_model_module_version": "1.5.0",
            "_view_count": null,
            "_view_module_version": "1.2.0",
            "bar_color": null,
            "_model_module": "@jupyter-widgets/controls"
          }
        },
        "041062d97dcb48fe86d9ca59a7233499": {
          "model_module": "@jupyter-widgets/base",
          "model_name": "LayoutModel",
          "state": {
            "_view_name": "LayoutView",
            "grid_template_rows": null,
            "right": null,
            "justify_content": null,
            "_view_module": "@jupyter-widgets/base",
            "overflow": null,
            "_model_module_version": "1.2.0",
            "_view_count": null,
            "flex_flow": null,
            "width": null,
            "min_width": null,
            "border": null,
            "align_items": null,
            "bottom": null,
            "_model_module": "@jupyter-widgets/base",
            "top": null,
            "grid_column": null,
            "overflow_y": null,
            "overflow_x": null,
            "grid_auto_flow": null,
            "grid_area": null,
            "grid_template_columns": null,
            "flex": null,
            "_model_name": "LayoutModel",
            "justify_items": null,
            "grid_row": null,
            "max_height": null,
            "align_content": null,
            "visibility": null,
            "align_self": null,
            "height": null,
            "min_height": null,
            "padding": null,
            "grid_auto_rows": null,
            "grid_gap": null,
            "max_width": null,
            "order": null,
            "_view_module_version": "1.2.0",
            "grid_template_areas": null,
            "object_position": null,
            "object_fit": null,
            "grid_auto_columns": null,
            "margin": null,
            "display": null,
            "left": null
          }
        },
        "a8d39056d75b46df9e638c06c6cfe88e": {
          "model_module": "@jupyter-widgets/controls",
          "model_name": "DescriptionStyleModel",
          "state": {
            "_view_name": "StyleView",
            "_model_name": "DescriptionStyleModel",
            "description_width": "",
            "_view_module": "@jupyter-widgets/base",
            "_model_module_version": "1.5.0",
            "_view_count": null,
            "_view_module_version": "1.2.0",
            "_model_module": "@jupyter-widgets/controls"
          }
        },
        "55b55aa462fa452d9555197073b7e20a": {
          "model_module": "@jupyter-widgets/base",
          "model_name": "LayoutModel",
          "state": {
            "_view_name": "LayoutView",
            "grid_template_rows": null,
            "right": null,
            "justify_content": null,
            "_view_module": "@jupyter-widgets/base",
            "overflow": null,
            "_model_module_version": "1.2.0",
            "_view_count": null,
            "flex_flow": null,
            "width": null,
            "min_width": null,
            "border": null,
            "align_items": null,
            "bottom": null,
            "_model_module": "@jupyter-widgets/base",
            "top": null,
            "grid_column": null,
            "overflow_y": null,
            "overflow_x": null,
            "grid_auto_flow": null,
            "grid_area": null,
            "grid_template_columns": null,
            "flex": null,
            "_model_name": "LayoutModel",
            "justify_items": null,
            "grid_row": null,
            "max_height": null,
            "align_content": null,
            "visibility": null,
            "align_self": null,
            "height": null,
            "min_height": null,
            "padding": null,
            "grid_auto_rows": null,
            "grid_gap": null,
            "max_width": null,
            "order": null,
            "_view_module_version": "1.2.0",
            "grid_template_areas": null,
            "object_position": null,
            "object_fit": null,
            "grid_auto_columns": null,
            "margin": null,
            "display": null,
            "left": null
          }
        }
      }
    },
    "accelerator": "GPU"
  },
  "cells": [
    {
      "cell_type": "markdown",
      "metadata": {
        "id": "HjrecuTU_48b"
      },
      "source": [
        "# Visual Modality: Video Features\n",
        "\n",
        "Used pytorch pretrained R(2+1)-18 model"
      ]
    },
    {
      "cell_type": "code",
      "metadata": {
        "id": "SRdxiTjEAfNx",
        "outputId": "161c7302-f05b-4ea6-bf80-b7aeab4c7e25",
        "colab": {
          "base_uri": "https://localhost:8080/",
          "height": 34
        }
      },
      "source": [
        "from google.colab import drive\n",
        "drive.mount('/content/drive')"
      ],
      "execution_count": null,
      "outputs": [
        {
          "output_type": "stream",
          "text": [
            "Mounted at /content/drive\n"
          ],
          "name": "stdout"
        }
      ]
    },
    {
      "cell_type": "code",
      "metadata": {
        "id": "ZOETxGKIAiQB"
      },
      "source": [
        "!pip install av\n",
        "!mkdir data/\n",
        "!unzip drive/My\\ Drive/mmml-data/subsetVideo.zip -d data/\n",
        "!unzip drive/My\\ Drive/mmml-data/data_mosei.zip -d data/\n",
        "!unzip drive/My\\ Drive/mmml-data/timestamps.zip -d data/"
      ],
      "execution_count": null,
      "outputs": []
    },
    {
      "cell_type": "markdown",
      "metadata": {
        "id": "WtmoD5kx_KxH"
      },
      "source": [
        "## Get features and labels"
      ]
    },
    {
      "cell_type": "code",
      "metadata": {
        "id": "9LTMeI2xAvvF"
      },
      "source": [
        "import torch\n",
        "import torchvision\n",
        "import glob\n",
        "import numpy as np"
      ],
      "execution_count": null,
      "outputs": []
    },
    {
      "cell_type": "code",
      "metadata": {
        "id": "JWEiQNheDxwe",
        "outputId": "cb8a2f6c-53be-450b-f0ea-cf61654ce709",
        "colab": {
          "base_uri": "https://localhost:8080/",
          "height": 103,
          "referenced_widgets": [
            "56bdbbf167cd4d57be782427aa71c569",
            "baf0b4ac8e8440459cbae7396b65d3c9",
            "c71eb55868af4362aefc797056d7b227",
            "37694fc9a2c1433b8911bd0badd25114",
            "61423a3f185647fcb25903f6053f5d58",
            "041062d97dcb48fe86d9ca59a7233499",
            "a8d39056d75b46df9e638c06c6cfe88e",
            "55b55aa462fa452d9555197073b7e20a"
          ]
        }
      },
      "source": [
        "# load model\n",
        "torch.cuda.empty_cache()\n",
        "model = torchvision.models.video.r2plus1d_18(pretrained=True).cuda()"
      ],
      "execution_count": null,
      "outputs": [
        {
          "output_type": "stream",
          "text": [
            "Downloading: \"https://download.pytorch.org/models/r2plus1d_18-91a641e6.pth\" to /root/.cache/torch/hub/checkpoints/r2plus1d_18-91a641e6.pth\n"
          ],
          "name": "stderr"
        },
        {
          "output_type": "display_data",
          "data": {
            "application/vnd.jupyter.widget-view+json": {
              "model_id": "56bdbbf167cd4d57be782427aa71c569",
              "version_minor": 0,
              "version_major": 2
            },
            "text/plain": [
              "HBox(children=(FloatProgress(value=0.0, max=126162996.0), HTML(value='')))"
            ]
          },
          "metadata": {
            "tags": []
          }
        },
        {
          "output_type": "stream",
          "text": [
            "\n"
          ],
          "name": "stdout"
        }
      ]
    },
    {
      "cell_type": "code",
      "metadata": {
        "id": "1_NONhi7FhzD"
      },
      "source": [
        "# grab a video sample\n",
        "video_frames, _, metadata = torchvision.io.read_video('data/subsetVideo/0OXeN3MhFeA_16.mp4', pts_unit='sec')"
      ],
      "execution_count": null,
      "outputs": []
    },
    {
      "cell_type": "code",
      "metadata": {
        "id": "A5J5WdNqGKlh",
        "outputId": "09fbba0e-758b-46d7-a707-c9b1df0d2ab3",
        "colab": {
          "base_uri": "https://localhost:8080/",
          "height": 34
        }
      },
      "source": [
        "video_frames.shape # T x H x W x C"
      ],
      "execution_count": null,
      "outputs": [
        {
          "output_type": "execute_result",
          "data": {
            "text/plain": [
              "torch.Size([41, 720, 1280, 3])"
            ]
          },
          "metadata": {
            "tags": []
          },
          "execution_count": 6
        }
      ]
    },
    {
      "cell_type": "code",
      "metadata": {
        "id": "602lH7VAGMKF",
        "outputId": "7d73c99c-8f9e-4cca-9d18-7d1258c1b912",
        "colab": {
          "base_uri": "https://localhost:8080/",
          "height": 34
        }
      },
      "source": [
        "metadata"
      ],
      "execution_count": null,
      "outputs": [
        {
          "output_type": "execute_result",
          "data": {
            "text/plain": [
              "{'audio_fps': 44100, 'video_fps': 30.0}"
            ]
          },
          "metadata": {
            "tags": []
          },
          "execution_count": 7
        }
      ]
    },
    {
      "cell_type": "code",
      "metadata": {
        "id": "TUj899dFMCjW"
      },
      "source": [
        "# source: https://github.com/pytorch/vision/blob/master/references/video_classification/transforms.py\n",
        "# exclusive transforms for processing videos\n",
        "from transforms import ToFloatTensorInZeroOne, Resize, CenterCrop, Normalize\n",
        "\n",
        "transform = torchvision.transforms.Compose([\n",
        "    ToFloatTensorInZeroOne(),\n",
        "    Resize(112),\n",
        "    CenterCrop((112, 112)),\n",
        "    Normalize(\n",
        "        mean=[0.43216, 0.394666, 0.37645],\n",
        "        std=[0.22803, 0.22145, 0.216989]\n",
        "    )\n",
        "])"
      ],
      "execution_count": null,
      "outputs": []
    },
    {
      "cell_type": "code",
      "metadata": {
        "id": "Y-PS_jekS0q8",
        "outputId": "b419bf14-85ca-4614-c019-05431bb89158",
        "colab": {
          "base_uri": "https://localhost:8080/",
          "height": 88
        }
      },
      "source": [
        "transformed_video = transform(video_frames).unsqueeze(0).cuda()\n",
        "transformed_video.shape # batch_size x channel x time x height x width"
      ],
      "execution_count": null,
      "outputs": [
        {
          "output_type": "stream",
          "text": [
            "/usr/local/lib/python3.6/dist-packages/torch/nn/functional.py:3000: UserWarning: The default behavior for interpolate/upsample with float scale_factor changed in 1.6.0 to align with other frameworks/libraries, and uses scale_factor directly, instead of relying on the computed output size. If you wish to keep the old behavior, please set recompute_scale_factor=True. See the documentation of nn.Upsample for details. \n",
            "  warnings.warn(\"The default behavior for interpolate/upsample with float scale_factor changed \"\n"
          ],
          "name": "stderr"
        },
        {
          "output_type": "execute_result",
          "data": {
            "text/plain": [
              "torch.Size([1, 3, 41, 112, 112])"
            ]
          },
          "metadata": {
            "tags": []
          },
          "execution_count": 10
        }
      ]
    },
    {
      "cell_type": "code",
      "metadata": {
        "id": "xzNvMN1mTTMz",
        "outputId": "07110ac2-063f-486d-f5a1-1518888979bf",
        "colab": {
          "base_uri": "https://localhost:8080/",
          "height": 34
        }
      },
      "source": [
        "features = model(transformed_video)\n",
        "features.shape"
      ],
      "execution_count": null,
      "outputs": [
        {
          "output_type": "execute_result",
          "data": {
            "text/plain": [
              "torch.Size([1, 400])"
            ]
          },
          "metadata": {
            "tags": []
          },
          "execution_count": 11
        }
      ]
    },
    {
      "cell_type": "code",
      "metadata": {
        "id": "9YZ0pkDcVCRK"
      },
      "source": [
        "# get features for videos\n",
        "all_features = []\n",
        "video_ids = []\n",
        "\n",
        "for video_path in glob.glob('data/subsetVideo/*.mp4'):\n",
        "    frames, _, _ = torchvision.io.read_video(video_path, pts_unit='sec')\n",
        "    num_frames = frames.shape[0]\n",
        "    if num_frames == 0 or num_frames > 180:\n",
        "        continue # only get videos of 0~6s to avoid OOM (actual usage ~15G)\n",
        "\n",
        "    model_input = transform(frames).unsqueeze(0).cuda()\n",
        "    features = model(model_input).detach().cpu().numpy()\n",
        "    all_features.append(features)\n",
        "    video_ids.append(video_path.split('/')[-1])\n",
        "    print('video {}: {} frames'.format(len(all_features), num_frames))\n",
        "\n",
        "all_features = np.array(all_features)"
      ],
      "execution_count": null,
      "outputs": []
    },
    {
      "cell_type": "code",
      "metadata": {
        "id": "kyqe8AvCtYjT",
        "outputId": "8b353717-741f-45b7-a5da-a5f93d39564a",
        "colab": {
          "base_uri": "https://localhost:8080/",
          "height": 34
        }
      },
      "source": [
        "len(video_ids)"
      ],
      "execution_count": null,
      "outputs": [
        {
          "output_type": "execute_result",
          "data": {
            "text/plain": [
              "886"
            ]
          },
          "metadata": {
            "tags": []
          },
          "execution_count": 13
        }
      ]
    },
    {
      "cell_type": "code",
      "metadata": {
        "id": "GrCCsSOm-ObK"
      },
      "source": [
        "# get labels\n",
        "import pickle\n",
        "import os\n",
        "\n",
        "dataroot = '/content/data'\n",
        "y_train_file = os.path.join(dataroot, \"Y_S_train.pkl\")\n",
        "y_valid_file = os.path.join(dataroot, \"Y_S_valid.pkl\")\n",
        "y_test_file = os.path.join(dataroot, \"Y_S_test.pkl\")\n",
        "key_to_sentiment_train = pickle.load(open(y_train_file, \"rb\"))\n",
        "key_to_sentiment_valid = pickle.load(open(y_valid_file, \"rb\"))\n",
        "key_to_sentiment_test = pickle.load(open(y_test_file, \"rb\"))"
      ],
      "execution_count": null,
      "outputs": []
    },
    {
      "cell_type": "code",
      "metadata": {
        "id": "G9JsKreG-Uyx"
      },
      "source": [
        "labels = []\n",
        "\n",
        "for video_id in video_ids:\n",
        "    video_id = video_id.split('.')[0]\n",
        "    idx = video_id.rfind(\"_\")\n",
        "    key = video_id[:idx] + '[' + video_id[idx+1:] + ']'\n",
        "    label = key_to_sentiment_train.get(key, None) or \\\n",
        "            key_to_sentiment_valid.get(key, None) or \\\n",
        "            key_to_sentiment_test.get(key, None)\n",
        "    labels.append(label)\n",
        "\n",
        "labels = np.array(labels)"
      ],
      "execution_count": null,
      "outputs": []
    },
    {
      "cell_type": "code",
      "metadata": {
        "id": "RDgXPSLm-Zi6",
        "outputId": "8b71b091-2318-4591-9a0c-faed08b89b22",
        "colab": {
          "base_uri": "https://localhost:8080/",
          "height": 34
        }
      },
      "source": [
        "print('label hit rate = {}'.format((labels != None).sum() / len(labels)))"
      ],
      "execution_count": null,
      "outputs": [
        {
          "output_type": "stream",
          "text": [
            "label hit rate = 0.39164785553047404\n"
          ],
          "name": "stdout"
        }
      ]
    },
    {
      "cell_type": "markdown",
      "metadata": {
        "id": "C0QlfVLn-E9z"
      },
      "source": [
        "## Visualization"
      ]
    },
    {
      "cell_type": "code",
      "metadata": {
        "id": "GcMnttdavcFG"
      },
      "source": [
        "import matplotlib.pyplot as plt\n",
        "from sklearn.manifold import TSNE"
      ],
      "execution_count": null,
      "outputs": []
    },
    {
      "cell_type": "code",
      "metadata": {
        "id": "Qbux38VLy1ml",
        "outputId": "ebfb0ac1-24ce-432f-9f9b-c1b796dcb1c5",
        "colab": {
          "base_uri": "https://localhost:8080/",
          "height": 34
        }
      },
      "source": [
        "all_features.shape"
      ],
      "execution_count": null,
      "outputs": [
        {
          "output_type": "execute_result",
          "data": {
            "text/plain": [
              "(886, 1, 400)"
            ]
          },
          "metadata": {
            "tags": []
          },
          "execution_count": 18
        }
      ]
    },
    {
      "cell_type": "code",
      "metadata": {
        "id": "vvvCqkYHy51l",
        "outputId": "9d2e4d3c-e7d2-44e1-ae2e-ed04585641c8",
        "colab": {
          "base_uri": "https://localhost:8080/",
          "height": 34
        }
      },
      "source": [
        "# t-sne embeddings\n",
        "all_features_squeezed = all_features.reshape(-1, 400)\n",
        "tsne_model = TSNE(n_components=2, perplexity=50, random_state=42)\n",
        "X_embedded = tsne_model.fit_transform(all_features_squeezed)\n",
        "X_embedded.shape"
      ],
      "execution_count": null,
      "outputs": [
        {
          "output_type": "execute_result",
          "data": {
            "text/plain": [
              "(886, 2)"
            ]
          },
          "metadata": {
            "tags": []
          },
          "execution_count": 20
        }
      ]
    },
    {
      "cell_type": "code",
      "metadata": {
        "id": "BcIpVRCT5nZ-"
      },
      "source": [
        "filtered_labels = labels[labels != None]\n",
        "filtered_embeddings = X_embedded[labels != None]"
      ],
      "execution_count": null,
      "outputs": []
    },
    {
      "cell_type": "code",
      "metadata": {
        "id": "hBhxGWpo7Ej4",
        "outputId": "3fe24244-9b7c-4759-c19e-5fd6a3f09264",
        "colab": {
          "base_uri": "https://localhost:8080/",
          "height": 391
        }
      },
      "source": [
        "color_labels = []\n",
        "for l in filtered_labels:\n",
        "  if l > 0:\n",
        "    color_labels.append('#91cf60')\n",
        "  elif l < 0:\n",
        "    color_labels.append('#fc8d59')\n",
        "  else:\n",
        "    color_labels.append('grey')\n",
        "\n",
        "plt.figure(figsize=(6, 6))\n",
        "plt.scatter(filtered_embeddings[:, 0], filtered_embeddings[:, 1], c=color_labels, s=2)"
      ],
      "execution_count": null,
      "outputs": [
        {
          "output_type": "execute_result",
          "data": {
            "text/plain": [
              "<matplotlib.collections.PathCollection at 0x7fd8f0530898>"
            ]
          },
          "metadata": {
            "tags": []
          },
          "execution_count": 23
        },
        {
          "output_type": "display_data",
          "data": {
            "image/png": "[encoded data removed]",
            "text/plain": [
              "<Figure size 432x432 with 1 Axes>"
            ]
          },
          "metadata": {
            "tags": [],
            "needs_background": "light"
          }
        }
      ]
    },
    {
      "cell_type": "markdown",
      "metadata": {
        "id": "pPdGQcu5QlTO"
      },
      "source": [
        "# Visual Modality: MOSEI Features"
      ]
    },
    {
      "cell_type": "code",
      "metadata": {
        "id": "Kiui3OiIQrge"
      },
      "source": [
        "!git clone https://github.com/A2Zadeh/CMU-MultimodalSDK\n",
        "!pip install h5py validators tqdm requests colorama"
      ],
      "execution_count": null,
      "outputs": []
    },
    {
      "cell_type": "code",
      "metadata": {
        "id": "v3YnzOcwQ1ws"
      },
      "source": [
        "import os\n",
        "os.chdir('/content/CMU-MultimodalSDK')\n",
        "from mmsdk import mmdatasdk"
      ],
      "execution_count": 31,
      "outputs": []
    },
    {
      "cell_type": "code",
      "metadata": {
        "id": "kBPp7AtxRD9_"
      },
      "source": [
        "cmumosei_highlevel = mmdatasdk.mmdataset(mmdatasdk.cmu_mosei.highlevel, 'cmu-mosei/')\n",
        "# cmumosei_highlevel = mmdatasdk.mmdataset('cmu-mosei/')"
      ],
      "execution_count": null,
      "outputs": []
    },
    {
      "cell_type": "code",
      "metadata": {
        "id": "HjUkMVdYY2n4"
      },
      "source": [
        "import random\n",
        "import numpy as np\n",
        "import pandas as pd\n",
        "import pickle\n",
        "\n",
        "dataroot = '/content/data'\n",
        "y_train_file = os.path.join(dataroot, \"Y_S_train.pkl\")\n",
        "y_valid_file = os.path.join(dataroot, \"Y_S_valid.pkl\")\n",
        "y_test_file = os.path.join(dataroot, \"Y_S_test.pkl\")\n",
        "key_to_sentiment_train = pickle.load(open(y_train_file, \"rb\"))\n",
        "key_to_sentiment_valid = pickle.load(open(y_valid_file, \"rb\"))\n",
        "key_to_sentiment_test = pickle.load(open(y_test_file, \"rb\"))"
      ],
      "execution_count": 47,
      "outputs": []
    },
    {
      "cell_type": "code",
      "metadata": {
        "id": "n2pxwESi4_eQ"
      },
      "source": [
        "def get_features(highlevel_features):\n",
        "    random.seed(42)\n",
        "\n",
        "    all_features = []\n",
        "    labels = []\n",
        "\n",
        "    # randomly pick one clip for each video\n",
        "    # an average is taken across all frames for a clip\n",
        "    for video_id in highlevel_features.keys():\n",
        "        timestamps = pd.read_csv(\"/content/data/Combined/{}.txt\".format(video_id), header=None, sep='___', engine='python',\n",
        "                                usecols=[0, 1, 2, 3], names=['video_id', 'clip_id', 'start', 'end'])\n",
        "        row = random.randrange(timestamps.shape[0])\n",
        "        start = timestamps.loc[row, 'start']\n",
        "        end = timestamps.loc[row, 'end']\n",
        "\n",
        "        key = video_id + '[' + str(0) + ']'\n",
        "        label = key_to_sentiment_train.get(key, None) or \\\n",
        "                key_to_sentiment_valid.get(key, None) or \\\n",
        "                key_to_sentiment_test.get(key, None)\n",
        "        if label is None:\n",
        "            continue\n",
        "\n",
        "        intervals = highlevel_features[video_id]['intervals'][:]\n",
        "        start_idx = (np.argmax(intervals >= start) + 1) // 2\n",
        "        end_idx = np.argmax(intervals >= end) // 2\n",
        "        if start_idx >= end_idx:\n",
        "            continue\n",
        "        features = highlevel_features[video_id]['features'][start_idx:end_idx].mean(axis=0)\n",
        "\n",
        "        all_features.append(features)\n",
        "        labels.append(label)\n",
        "\n",
        "        if len(labels) % 50 == 0:\n",
        "            print(len(labels))\n",
        "        if len(labels) == 500:\n",
        "            break\n",
        "\n",
        "    return np.array(all_features), labels"
      ],
      "execution_count": 50,
      "outputs": []
    },
    {
      "cell_type": "code",
      "metadata": {
        "id": "Gtzq1E31grUU"
      },
      "source": [
        "import matplotlib.pyplot as plt\n",
        "from sklearn.manifold import TSNE\n",
        "\n",
        "def visualize(all_features, labels):\n",
        "    tsne_model = TSNE(n_components=2, perplexity=50, random_state=42)\n",
        "    X_embedded = tsne_model.fit_transform(all_features)\n",
        "    print('shape before: ', all_features.shape)\n",
        "    print('shape after: ', X_embedded.shape)\n",
        "\n",
        "    color_labels = []\n",
        "    for l in labels:\n",
        "        if l > 0:\n",
        "            color_labels.append('#91cf60')\n",
        "        elif l < 0:\n",
        "            color_labels.append('#fc8d59')\n",
        "        else:\n",
        "            color_labels.append('grey')\n",
        "\n",
        "    plt.figure(figsize=(6, 6))\n",
        "    plt.scatter(X_embedded[:, 0], X_embedded[:, 1], c=color_labels, s=2)"
      ],
      "execution_count": 51,
      "outputs": []
    },
    {
      "cell_type": "code",
      "metadata": {
        "id": "XQMKFJ35hNJu"
      },
      "source": [
        "all_features, labels = get_features(cmumosei_highlevel['OpenFace_2'])"
      ],
      "execution_count": null,
      "outputs": []
    },
    {
      "cell_type": "code",
      "metadata": {
        "id": "gF6jHi3P4g02",
        "outputId": "322cebe2-7f21-4b6a-eb6a-f1c07e255984",
        "colab": {
          "base_uri": "https://localhost:8080/",
          "height": 408
        }
      },
      "source": [
        "visualize(all_features, labels)"
      ],
      "execution_count": 53,
      "outputs": [
        {
          "output_type": "stream",
          "text": [
            "shape before:  (500, 713)\n",
            "shape after:  (500, 2)\n"
          ],
          "name": "stdout"
        },
        {
          "output_type": "display_data",
          "data": {
            "image/png": "[encoded data removed]",
            "text/plain": [
              "<Figure size 432x432 with 1 Axes>"
            ]
          },
          "metadata": {
            "tags": [],
            "needs_background": "light"
          }
        }
      ]
    },
    {
      "cell_type": "code",
      "metadata": {
        "id": "XeM-1VG2qJPN"
      },
      "source": [
        "all_features, labels = get_features(cmumosei_highlevel['FACET 4.2'])"
      ],
      "execution_count": null,
      "outputs": []
    },
    {
      "cell_type": "code",
      "metadata": {
        "id": "l7uJ-NbH4joT",
        "outputId": "0eb5b7e7-8f75-421d-b303-16f9adf10778",
        "colab": {
          "base_uri": "https://localhost:8080/",
          "height": 408
        }
      },
      "source": [
        "visualize(all_features, labels)"
      ],
      "execution_count": 55,
      "outputs": [
        {
          "output_type": "stream",
          "text": [
            "shape before:  (500, 35)\n",
            "shape after:  (500, 2)\n"
          ],
          "name": "stdout"
        },
        {
          "output_type": "display_data",
          "data": {
            "image/png": "[encoded data removed]",
            "text/plain": [
              "<Figure size 432x432 with 1 Axes>"
            ]
          },
          "metadata": {
            "tags": [],
            "needs_background": "light"
          }
        }
      ]
    },
    {
      "cell_type": "code",
      "metadata": {
        "id": "2Rs7h0BF5Vt6"
      },
      "source": [
        ""
      ],
      "execution_count": null,
      "outputs": []
    }
  ]
}